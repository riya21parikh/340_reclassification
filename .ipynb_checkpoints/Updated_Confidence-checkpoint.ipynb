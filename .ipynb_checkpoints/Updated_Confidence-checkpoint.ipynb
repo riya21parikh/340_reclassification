{
 "cells": [
  {
   "cell_type": "markdown",
   "id": "2e964389-ca42-431e-908a-616380202d6b",
   "metadata": {},
   "source": [
    "# This makes sense to use using KMEANS or some other external-based-confidence score, but I didn't realize till I figured out the multiple inputs stuff, gonna leave it but actually work on the confidence-relabeling first"
   ]
  },
  {
   "cell_type": "code",
   "execution_count": 1,
   "id": "b497b9ed-b6ac-44a6-9aff-456e09a9c144",
   "metadata": {},
   "outputs": [],
   "source": [
    "import os\n",
    "from PIL import Image\n",
    "import numpy as np\n",
    "import random\n",
    "import shutil"
   ]
  },
  {
   "cell_type": "code",
   "execution_count": 2,
   "id": "e95280c4-13b0-45cc-a013-6ca2f30b0ae0",
   "metadata": {},
   "outputs": [],
   "source": [
    "# define directories for train and validation sets\n",
    "root_dir = '/projectnb/ds340/projects/Samuolis_Parikh_Image_Data/'\n",
    "\n",
    "train_dir = root_dir +\"resized_images/train\"\n",
    "validation_dir = root_dir + \"resized_images/validation\"\n",
    "\n",
    "train_target = train_dir +\"/baldeagle\"\n",
    "train_nontarget = train_dir +\"/nonbaldeagle\"\n",
    "\n",
    "val_target = validation_dir +\"/baldeagle\"\n",
    "val_nontarget = validation_dir +\"/nonbaldeagle\""
   ]
  },
  {
   "cell_type": "code",
   "execution_count": 3,
   "id": "a74d33b9-6ff2-4aac-a4b7-9576a8d52d59",
   "metadata": {},
   "outputs": [],
   "source": [
    "def load_images_from_folders(folder1, folder2, img_size = (224,224)):\n",
    "    images = []\n",
    "    labels = []\n",
    "    \n",
    "    # Load images from the first folder\n",
    "    for filename in os.listdir(folder1):\n",
    "        img_path = os.path.join(folder1, filename)\n",
    "        try:\n",
    "            with Image.open(img_path) as img:\n",
    "                img = img.convert('RGB')\n",
    "                img = img.resize(img_size)\n",
    "                images.append(np.array(img))  # Convert image to array\n",
    "                labels.append(1)  # Class label for folder1\n",
    "        except Exception as e:\n",
    "            print(f\"Could not load image {filename} from {folder1}: {e}\")\n",
    "\n",
    "    # Load images from the second folder\n",
    "    for filename in os.listdir(folder2):\n",
    "        img_path = os.path.join(folder2, filename)\n",
    "        try:\n",
    "            with Image.open(img_path) as img:\n",
    "                img = img.convert('RGB')\n",
    "                img = img.resize(img_size)\n",
    "                images.append(np.array(img))\n",
    "                labels.append(0)  # Class label for folder2\n",
    "        except Exception as e:\n",
    "            print(f\"Could not load image {filename} from {folder2}: {e}\")\n",
    "\n",
    "    # convert lists to NumPy arrays\n",
    "    \n",
    "    images = np.array(images)\n",
    "    labels = np.array(labels)\n",
    "    \n",
    "    return images, labels\n",
    "\n",
    "images_train, label_train = load_images_from_folders(train_target, train_nontarget)\n",
    "images_val, label_val = load_images_from_folders(val_target, val_nontarget)"
   ]
  },
  {
   "cell_type": "code",
   "execution_count": 4,
   "id": "2fc677bc-cf4f-4345-9025-45a27bf0a1f9",
   "metadata": {},
   "outputs": [
    {
     "name": "stdout",
     "output_type": "stream",
     "text": [
      "(5200, 224, 224, 3) (5200,) <class 'numpy.ndarray'>\n",
      "0 255\n",
      "Initial eagle count: 1300\n",
      "Initial noneagle count: 3900\n"
     ]
    }
   ],
   "source": [
    "## for debugging:\n",
    "print(images_train.shape, label_train.shape, type(images_train))\n",
    "print(images_train.min(), images_train.max())  # expected: 0 255, later will normalize\n",
    "print(f\"Initial eagle count: {np.sum(label_train == 1)}\")\n",
    "print(f\"Initial noneagle count: {np.sum(label_train == 0)}\")"
   ]
  },
  {
   "cell_type": "code",
   "execution_count": 5,
   "id": "79236d4d-b08c-4630-a005-0da7c7d0c1c5",
   "metadata": {},
   "outputs": [],
   "source": [
    "def change_labels(labels, percentage):\n",
    "    random.seed(340)\n",
    "    label_one_indices = np.where(labels == 1)[0]\n",
    "    \n",
    "    n = int(len(label_one_indices) * (percentage / 100))\n",
    "    \n",
    "    indices_to_change = np.random.choice(label_one_indices, size=n, replace=False)\n",
    "    \n",
    "    labels[indices_to_change] = 0\n",
    "    \n",
    "    return labels, indices_to_change\n",
    "\n",
    "# for example, change 20% of label 1s to label 0\n",
    "percentage = 0  \n",
    "# changed_indices\n",
    "# label_train, changed_indices = change_labels(label_train, percentage)"
   ]
  },
  {
   "cell_type": "code",
   "execution_count": 6,
   "id": "2f8fe98c-89ce-4d1f-a0f3-840d49eebdca",
   "metadata": {},
   "outputs": [
    {
     "name": "stderr",
     "output_type": "stream",
     "text": [
      "2024-12-02 21:11:47.296139: I tensorflow/core/util/port.cc:153] oneDNN custom operations are on. You may see slightly different numerical results due to floating-point round-off errors from different computation orders. To turn them off, set the environment variable `TF_ENABLE_ONEDNN_OPTS=0`.\n",
      "2024-12-02 21:11:47.318386: E external/local_xla/xla/stream_executor/cuda/cuda_fft.cc:477] Unable to register cuFFT factory: Attempting to register factory for plugin cuFFT when one has already been registered\n",
      "WARNING: All log messages before absl::InitializeLog() is called are written to STDERR\n",
      "E0000 00:00:1733191907.334826 3275115 cuda_dnn.cc:8310] Unable to register cuDNN factory: Attempting to register factory for plugin cuDNN when one has already been registered\n",
      "E0000 00:00:1733191907.339581 3275115 cuda_blas.cc:1418] Unable to register cuBLAS factory: Attempting to register factory for plugin cuBLAS when one has already been registered\n",
      "2024-12-02 21:11:47.356807: I tensorflow/core/platform/cpu_feature_guard.cc:210] This TensorFlow binary is optimized to use available CPU instructions in performance-critical operations.\n",
      "To enable the following instructions: AVX2 AVX512F AVX512_VNNI FMA, in other operations, rebuild TensorFlow with the appropriate compiler flags.\n"
     ]
    }
   ],
   "source": [
    "import tensorflow as tf\n",
    "from tensorflow.keras.applications import VGG16\n",
    "from tensorflow.keras.models import Model\n",
    "from tensorflow.keras.layers import Dense, Flatten\n",
    "from tensorflow.keras.preprocessing.image import ImageDataGenerator\n",
    "tf.keras.utils.set_random_seed(340)\n",
    "tf.config.experimental.enable_op_determinism()"
   ]
  },
  {
   "cell_type": "code",
   "execution_count": 7,
   "id": "66d6aebd-c991-4a74-9b33-f1e5920218c0",
   "metadata": {},
   "outputs": [],
   "source": [
    "callbacks = [\n",
    "    tf.keras.callbacks.EarlyStopping(monitor='val_loss', patience=3, restore_best_weights=True)\n",
    "]\n",
    "epochs = 15\n",
    "# restore best weights make the model be the one that was the best instead of last one\n",
    "# patience changed from 4-->3"
   ]
  },
  {
   "cell_type": "code",
   "execution_count": 8,
   "id": "6e3319a3-82bf-42a0-afb7-d005da2bbfd8",
   "metadata": {},
   "outputs": [],
   "source": [
    "# reload images\n",
    "images_train, label_train = load_images_from_folders(train_target, train_nontarget)\n",
    "percentage = 20  \n",
    "# changed_indices\n",
    "label_train, changed_indices = change_labels(label_train, percentage)"
   ]
  },
  {
   "cell_type": "code",
   "execution_count": 9,
   "id": "e64eef54-df72-4075-a370-f590a2f831db",
   "metadata": {},
   "outputs": [
    {
     "name": "stdout",
     "output_type": "stream",
     "text": [
      "New eagle count: 1040\n",
      "New noneagle count: 4160\n"
     ]
    }
   ],
   "source": [
    "print(f\"New eagle count: {np.sum(label_train == 1)}\")\n",
    "print(f\"New noneagle count: {np.sum(label_train == 0)}\")"
   ]
  },
  {
   "cell_type": "code",
   "execution_count": 10,
   "id": "44e5183d-4eb9-40e1-8066-a17ae72e4d02",
   "metadata": {},
   "outputs": [
    {
     "name": "stdout",
     "output_type": "stream",
     "text": [
      "New eagle count: 1040\n",
      "New noneagle count: 4160\n",
      "Confidence values: [0.35 1.   1.   1.   1.   1.   1.   0.35 1.   1.  ]\n"
     ]
    }
   ],
   "source": [
    "from tensorflow.keras.layers import Input, Dropout, Concatenate\n",
    "confidence_init = confidence_init = np.array([.35 if x<.5 else 1 for x in label_train]).reshape(5200,1)\n",
    "  # Start with all 1s for confidence\n",
    "# This doesn't work --- we don't know before hand which indices we aren't confident about, we especially don't know \n",
    "# to specifically be less confident for the labels that we changed\n",
    "# confidence_init[label_train == 0] = 0  # Set confidence to 0 for original 0 labels\n",
    "# confidence_init[changed_indices] = 0.35  # Set confidence to 0.35 for flipped labels\n",
    "# confidence_init = confidence_init.reshape(-1, 1)  # Reshape to (N, 1)\n",
    "\n",
    "# print data statistics\n",
    "print(f\"New eagle count: {np.sum(label_train == 1)}\")\n",
    "print(f\"New noneagle count: {np.sum(label_train == 0)}\")\n",
    "print(f\"Confidence values: {confidence_init[:10].flatten()}\")"
   ]
  },
  {
   "cell_type": "code",
   "execution_count": 11,
   "id": "bc5ea703-0063-4f68-84fa-da03d64bef30",
   "metadata": {
    "scrolled": true
   },
   "outputs": [
    {
     "name": "stderr",
     "output_type": "stream",
     "text": [
      "I0000 00:00:1733191916.449310 3275115 gpu_device.cc:2022] Created device /job:localhost/replica:0/task:0/device:GPU:0 with 14784 MB memory:  -> device: 0, name: Tesla V100-SXM2-16GB, pci bus id: 0000:86:00.0, compute capability: 7.0\n"
     ]
    }
   ],
   "source": [
    "# remake models\n",
    "# mutliple inputs taken from chat and https://pyimagesearch.com/2019/02/04/keras-multiple-inputs-and-mixed-data/\n",
    "# we have full confidence if it is a 1, the lower the number the more confident you are in the 0 class\n",
    "# .999999 vs .00004\n",
    "\n",
    "\n",
    "base_model = VGG16(weights='imagenet', include_top=False, input_shape=(224, 224, 3))\n",
    "\n",
    "for layer in base_model.layers:\n",
    "    layer.trainable = True\n",
    "\n",
    "\n",
    "# add new fully connected layers for binary classification\n",
    "image_input = base_model.input\n",
    "x = base_model.output\n",
    "x = Flatten()(x)\n",
    "\n",
    "additional_input = Input(shape=(1,), name=\"additional_input\") # shape is just 1 feature for the confidence \n",
    "y = Dense(64, activation='relu')(additional_input) \n",
    "y = Dropout(0.1)(y) # when .5, the additional input was too powerful, the prediction vals were always either to close to 1 or 0, we try to make the additional input less important than the images\n",
    "\n",
    "combined = Concatenate()([x, y]) # 2 channels\n",
    "combined = Dense(256, activation='relu')(combined)\n",
    "combined = Dense(1, activation='sigmoid')(combined)  # sigmoid for binary \n",
    "\n",
    "model = Model(inputs=[image_input, additional_input], outputs=combined)\n",
    "\n",
    "model.compile(optimizer='adam', loss='binary_crossentropy', metrics=['accuracy'], jit_compile=False)"
   ]
  },
  {
   "cell_type": "markdown",
   "id": "f8eb2782-7568-4166-844b-148627328c6c",
   "metadata": {
    "jp-MarkdownHeadingCollapsed": true
   },
   "source": [
    "### didnt run any of this\n"
   ]
  },
  {
   "cell_type": "code",
   "execution_count": null,
   "id": "ed71e4b7-0248-443a-9690-dee283ba7c2c",
   "metadata": {},
   "outputs": [],
   "source": [
    "history = model.fit(\n",
    "    [images_train, confidence_init],\n",
    "    label_train,\n",
    "    batch_size = 32,\n",
    "    epochs=epochs,  # adjust this for more epochs as needed\n",
    "    validation_data=([images_val, label_val.reshape(-1,1)], label_val),\n",
    "    callbacks = callbacks\n",
    ")"
   ]
  },
  {
   "cell_type": "code",
   "execution_count": null,
   "id": "dc85507c-4510-48e0-995a-d35f93bc8fd9",
   "metadata": {},
   "outputs": [],
   "source": [
    "#accracy isnt what we care about rn, we care more about the confidence score and actual classigications\n",
    "preds = model.predict([images_train, confidence_init])"
   ]
  },
  {
   "cell_type": "code",
   "execution_count": 14,
   "id": "7c5a0027-b4fa-443a-9957-1b764db26b22",
   "metadata": {},
   "outputs": [
    {
     "data": {
      "text/plain": [
       "array([   0,    7,   10,   15,   18,   25,   33,   34,   36,   43,   45,\n",
       "         46,   47,   51,   53,   55,   59,   71,   72,   73,   74,   82,\n",
       "         91,   93,   95,  105,  106,  107,  120,  123,  124,  130,  134,\n",
       "        138,  145,  146,  148,  149,  150,  158,  160,  169,  193,  201,\n",
       "        204,  207,  224,  228,  235,  239,  245,  249,  255,  260,  266,\n",
       "        269,  273,  283,  290,  292,  293,  298,  304,  306,  307,  311,\n",
       "        313,  315,  322,  326,  329,  336,  340,  341,  349,  351,  352,\n",
       "        353,  357,  362,  364,  368,  370,  377,  378,  385,  386,  387,\n",
       "        388,  392,  400,  403,  409,  410,  414,  417,  423,  428,  432,\n",
       "        436,  438,  455,  458,  460,  465,  470,  477,  480,  482,  486,\n",
       "        499,  511,  530,  533,  534,  537,  546,  547,  553,  564,  566,\n",
       "        572,  573,  574,  578,  598,  601,  604,  619,  623,  634,  656,\n",
       "        665,  666,  672,  674,  675,  677,  684,  687,  688,  689,  698,\n",
       "        710,  720,  723,  724,  731,  734,  738,  743,  777,  781,  782,\n",
       "        786,  790,  794,  802,  803,  810,  811,  818,  822,  825,  829,\n",
       "        830,  833,  836,  837,  839,  841,  849,  850,  856,  858,  859,\n",
       "        861,  865,  866,  867,  874,  877,  879,  882,  884,  900,  901,\n",
       "        905,  909,  913,  918,  923,  926,  938,  945,  947,  953,  969,\n",
       "        973,  976,  986,  996, 1001, 1007, 1014, 1019, 1029, 1032, 1039,\n",
       "       1041, 1050, 1052, 1055, 1068, 1078, 1082, 1083, 1085, 1086, 1087,\n",
       "       1089, 1096, 1100, 1101, 1103, 1105, 1109, 1140, 1148, 1151, 1157,\n",
       "       1177, 1178, 1179, 1187, 1188, 1193, 1200, 1201, 1203, 1211, 1213,\n",
       "       1216, 1217, 1220, 1221, 1223, 1230, 1232, 1235, 1240, 1244, 1245,\n",
       "       1249, 1263, 1265, 1267, 1268, 1291, 1299])"
      ]
     },
     "execution_count": 14,
     "metadata": {},
     "output_type": "execute_result"
    }
   ],
   "source": [
    "changed_indices.sort()\n",
    "changed_indices"
   ]
  },
  {
   "cell_type": "code",
   "execution_count": 15,
   "id": "864f5896-3699-4f29-8b7d-c89288471ce1",
   "metadata": {},
   "outputs": [
    {
     "data": {
      "text/plain": [
       "(1040,)"
      ]
     },
     "execution_count": 15,
     "metadata": {},
     "output_type": "execute_result"
    }
   ],
   "source": [
    "np.where(label_train > .5)[0].shape #260 eagles missing, instead more eagles are getting flipped to noneagles"
   ]
  },
  {
   "cell_type": "code",
   "execution_count": 16,
   "id": "5bf2c9cc-fad0-49d6-8028-7d95112cb62d",
   "metadata": {},
   "outputs": [
    {
     "data": {
      "text/plain": [
       "(1040,)"
      ]
     },
     "execution_count": 16,
     "metadata": {},
     "output_type": "execute_result"
    }
   ],
   "source": [
    "preds\n",
    "preds.reshape(5200,)\n",
    "np.where(preds.reshape(5200,) >.5)[0].shape #find indices of those 17 indexes that were incorrectly flipped and flip them to correct label"
   ]
  },
  {
   "cell_type": "code",
   "execution_count": 17,
   "id": "ad917216-e690-4251-a548-603ac9d890de",
   "metadata": {},
   "outputs": [
    {
     "data": {
      "text/plain": [
       "0.007381159"
      ]
     },
     "execution_count": 17,
     "metadata": {},
     "output_type": "execute_result"
    }
   ],
   "source": [
    "preds[changed_indices].mean() #preds for eagles labeled as 0, could we try flipping back top/highest value n percent of these back into eagles?"
   ]
  },
  {
   "cell_type": "code",
   "execution_count": 18,
   "id": "69af3e9b-4a68-46fd-81ab-e386ba308480",
   "metadata": {},
   "outputs": [
    {
     "data": {
      "text/plain": [
       "0.002475439"
      ]
     },
     "execution_count": 18,
     "metadata": {},
     "output_type": "execute_result"
    }
   ],
   "source": [
    "preds[1300:].mean() #noneagles labeled as noneagles"
   ]
  },
  {
   "cell_type": "code",
   "execution_count": 19,
   "id": "25f499be-edde-4e7b-a970-d5a0e7fef88f",
   "metadata": {},
   "outputs": [],
   "source": [
    "from scipy.stats import ttest_ind\n",
    "\n",
    "tstat, pval = ttest_ind(preds[changed_indices], preds[1300:])"
   ]
  },
  {
   "cell_type": "code",
   "execution_count": 20,
   "id": "2ab1ddfe-875c-46dc-ab98-bbe1b6d5dcd1",
   "metadata": {},
   "outputs": [
    {
     "data": {
      "text/plain": [
       "array([2.51675191e-17])"
      ]
     },
     "execution_count": 20,
     "metadata": {},
     "output_type": "execute_result"
    }
   ],
   "source": [
    "pval"
   ]
  },
  {
   "cell_type": "code",
   "execution_count": 23,
   "id": "841452da-aeab-43db-8108-232093a6af0e",
   "metadata": {
    "scrolled": true
   },
   "outputs": [
    {
     "name": "stdout",
     "output_type": "stream",
     "text": [
      "You must install pydot (`pip install pydot`) for `plot_model` to work.\n"
     ]
    }
   ],
   "source": [
    "tf.keras.utils.plot_model(model, \"multi_input_and_output_model.png\", show_shapes=True)"
   ]
  },
  {
   "cell_type": "markdown",
   "id": "a79a5a32-3422-4a93-96a1-44112e0e0911",
   "metadata": {},
   "source": [
    "and this"
   ]
  },
  {
   "cell_type": "markdown",
   "id": "75e92ba7-948f-4e38-af46-e400f47c17b4",
   "metadata": {
    "jp-MarkdownHeadingCollapsed": true
   },
   "source": [
    "### riya 12/2 1"
   ]
  },
  {
   "cell_type": "code",
   "execution_count": 110,
   "id": "269dee85-444c-41fb-956d-89713c2d7bf5",
   "metadata": {},
   "outputs": [
    {
     "name": "stdout",
     "output_type": "stream",
     "text": [
      "Iteration 1...\n",
      "\u001b[1m163/163\u001b[0m \u001b[32m━━━━━━━━━━━━━━━━━━━━\u001b[0m\u001b[37m\u001b[0m \u001b[1m8s\u001b[0m 45ms/step\n",
      "Changed Indices: [  15   25   55   73  201  235  283  315  353  368  378  410  417  428\n",
      "  432  438  455  465  530  547  578  674  684  724  802  803  829  836\n",
      "  837  849  856  861  918  973 1029 1052 1085 1086 1101 1177 1193 1211\n",
      " 1213 1221 1299]\n",
      "Predictions for Changed Indices: [0.33993948 0.301688   0.31609848 0.346323   0.31062728 0.3332955\n",
      " 0.31176782 0.31758687 0.33170742 0.30259776 0.3220533  0.3301907\n",
      " 0.3241291  0.34405994 0.31074417 0.30899304 0.31454054 0.30906466\n",
      " 0.36607313 0.30413967 0.39055392 0.31689996 0.3912428  0.34620482\n",
      " 0.30776814 0.32108304 0.30376634 0.3192135  0.30213514 0.30695465\n",
      " 0.49647298 0.3226291  0.37533212 0.31266627 0.31192333 0.3216466\n",
      " 0.36463854 0.31626424 0.35049868 0.32555488 0.37126392 0.30479458\n",
      " 0.31322291 0.31673646 0.36950284]\n",
      "Label change ratio: 0.0000\n",
      "Eagles in predictions: 1040\n",
      "Noneagles in predictions: 4160\n",
      "Labels have converged.\n",
      "After Convergence - Correctly labeled eagles: 1040\n",
      "After Convergence - Correctly labeled noneagles: 4160\n"
     ]
    }
   ],
   "source": [
    "#trash rn\n",
    "import numpy as np\n",
    "\n",
    "# Define function to update labels based on misclassifications and confidence\n",
    "def update_labels(preds, labels, changed_indices, confidence_init, threshold=0.05):\n",
    "    new_labels = labels.copy()\n",
    "\n",
    "    # Misclassified eagles: predicted as non-eagles (preds <= 0.5) but they are actually eagles (labels == 1)\n",
    "    misclassified_eagles = np.where((labels[:1300] == 1) & (preds[:1300] <= 0.5))[0]\n",
    "\n",
    "    # Adjust confidence for misclassifications within the eagle class\n",
    "    for idx in misclassified_eagles:\n",
    "        confidence_init[idx] = min(confidence_init[idx] + 0.1, 1)  # Increase confidence for eagle class\n",
    "\n",
    "    # Flip misclassified eagles to eagles (preds closer to 1) if confidently predicted\n",
    "    for idx in misclassified_eagles:\n",
    "        new_labels[idx] = 1  # Flip to eagle\n",
    "\n",
    "    return new_labels  \n",
    "\n",
    "# Iterative relabeling process\n",
    "converged = False\n",
    "iteration = 0\n",
    "threshold = 0.05  # Statistical significance level\n",
    "tolerance = 0.01  # Convergence tolerance (less than 1% labels change)\n",
    "\n",
    "\n",
    "# Start iterative process\n",
    "while not converged:\n",
    "    iteration += 1\n",
    "    print(f\"Iteration {iteration}...\")\n",
    "\n",
    "    # Retrain the model with the current labels and confidence scores\n",
    "    history = model.fit(\n",
    "        [images_train, confidence_init],  # Use updated confidence\n",
    "        label_train,\n",
    "        batch_size=32,\n",
    "        epochs=1,  # To see values after each iteration\n",
    "        validation_data=([images_val, label_val.reshape(-1, 1)], label_val),\n",
    "        callbacks=callbacks,\n",
    "        verbose=0\n",
    "    )\n",
    "\n",
    "    # Predict updated confidence scores from the model\n",
    "    preds = model.predict([images_train, confidence_init]).flatten()\n",
    "\n",
    "    # Filter `changed_indices` to keep only ambiguous predictions\n",
    "    changed_indices = changed_indices[np.where((preds[changed_indices] > 0.3) & (preds[changed_indices] < 0.7))[0]]\n",
    "    changed_indices = np.sort(changed_indices)\n",
    "\n",
    "    print(f\"Changed Indices: {changed_indices}\")\n",
    "    print(f\"Predictions for Changed Indices: {preds[changed_indices]}\")\n",
    "\n",
    "    # Update labels based on misclassifications and confidence\n",
    "    new_labels = update_labels(preds, label_train, changed_indices, confidence_init, threshold)\n",
    "\n",
    "    # Update confidence scores to reflect updated predictions\n",
    "    confidence_init = preds.reshape(-1, 1)\n",
    "\n",
    "    # Check for convergence\n",
    "    label_changes = np.sum(label_train != new_labels)\n",
    "    change_ratio = label_changes / len(label_train)\n",
    "    print(f\"Label change ratio: {change_ratio:.4f}\")\n",
    "    print(f\"Eagles in predictions: {np.sum(preds > 0.5)}\")\n",
    "    print(f\"Noneagles in predictions: {np.sum(preds <= 0.5)}\")\n",
    "\n",
    "    # Check if the labels have converged by comparing the old and new labels\n",
    "    if change_ratio < tolerance:  \n",
    "        converged = True\n",
    "    else:\n",
    "        label_train = new_labels.copy()  # Update labels for the next iteration\n",
    "\n",
    "print(\"Labels have converged.\")\n",
    "\n",
    "# Final print\n",
    "eagle_count = np.sum(label_train == 1)\n",
    "noneagle_count = np.sum(label_train == 0)\n",
    "print(f\"After Convergence - Correctly labeled eagles: {eagle_count}\")\n",
    "print(f\"After Convergence - Correctly labeled noneagles: {noneagle_count}\")\n"
   ]
  },
  {
   "cell_type": "markdown",
   "id": "bba674e1-757a-4db3-b351-f36bc3c645a7",
   "metadata": {},
   "source": [
    "### riya 12/2 2"
   ]
  },
  {
   "cell_type": "code",
   "execution_count": 12,
   "id": "3e705eac-f141-4c4b-861e-13af0781541e",
   "metadata": {},
   "outputs": [
    {
     "name": "stdout",
     "output_type": "stream",
     "text": [
      "Filtered Indices: 5\n"
     ]
    }
   ],
   "source": [
    "data_array = np.array([0, 1, 0, 3, 0, 5])  # The array containing 0s and other values\n",
    "index_array = np.array([0, 1, 2, 3, 4, 5])  # The array of indices\n",
    "\n",
    "# Filter the index_array where the corresponding value in data_array is not 0\n",
    "filtered_indices = index_array[data_array[index_array] != 0]\n",
    "\n",
    "print(\"Filtered Indices:\", filtered_indices[2])"
   ]
  },
  {
   "cell_type": "code",
   "execution_count": null,
   "id": "0cdab886-ceec-4fe7-a32a-87a9bc8c98ca",
   "metadata": {},
   "outputs": [],
   "source": []
  },
  {
   "cell_type": "code",
   "execution_count": 41,
   "id": "74453bdf-a5c0-4764-b238-901b1f3a8810",
   "metadata": {},
   "outputs": [
    {
     "name": "stdout",
     "output_type": "stream",
     "text": [
      "Iteration 1...\n",
      "\u001b[1m  5/163\u001b[0m \u001b[37m━━━━━━━━━━━━━━━━━━━━\u001b[0m \u001b[1m6s\u001b[0m 42ms/step "
     ]
    },
    {
     "name": "stderr",
     "output_type": "stream",
     "text": [
      "2024-12-02 21:43:02.746316: E tensorflow/core/framework/node_def_util.cc:676] NodeDef mentions attribute use_unbounded_threadpool which is not in the op definition: Op<name=MapDataset; signature=input_dataset:variant, other_arguments: -> handle:variant; attr=f:func; attr=Targuments:list(type),min=0; attr=output_types:list(type),min=1; attr=output_shapes:list(shape),min=1; attr=use_inter_op_parallelism:bool,default=true; attr=preserve_cardinality:bool,default=false; attr=force_synchronous:bool,default=false; attr=metadata:string,default=\"\"> This may be expected if your graph generating binary is newer  than this binary. Unknown attributes will be ignored. NodeDef: {{node ParallelMapDatasetV2/_15}}\n"
     ]
    },
    {
     "name": "stdout",
     "output_type": "stream",
     "text": [
      "\u001b[1m163/163\u001b[0m \u001b[32m━━━━━━━━━━━━━━━━━━━━\u001b[0m\u001b[37m\u001b[0m \u001b[1m7s\u001b[0m 42ms/step\n",
      "Adjusted 208 indices, avg confidence: 0.0000\n",
      "Changed Indices: [np.int64(530), np.int64(578), np.int64(1302), np.int64(1314), np.int64(1329), np.int64(1332), np.int64(1334), np.int64(1371), np.int64(1372), np.int64(1429), np.int64(1440), np.int64(1441), np.int64(1442), np.int64(1446), np.int64(1454), np.int64(1476), np.int64(1484), np.int64(1488), np.int64(1528), np.int64(1534), np.int64(1565), np.int64(1587), np.int64(1594), np.int64(1596), np.int64(1599), np.int64(1622), np.int64(1640), np.int64(1645), np.int64(1660), np.int64(1668), np.int64(1676), np.int64(1682), np.int64(1695), np.int64(1723), np.int64(1785), np.int64(1797), np.int64(1800), np.int64(1821), np.int64(1825), np.int64(1862), np.int64(1873), np.int64(1895), np.int64(1922), np.int64(1927), np.int64(1953), np.int64(1974), np.int64(1977), np.int64(2014), np.int64(2108), np.int64(2119), np.int64(2122), np.int64(2128), np.int64(2144), np.int64(2151), np.int64(2168), np.int64(2173), np.int64(2185), np.int64(2198), np.int64(2210), np.int64(2241), np.int64(2246), np.int64(2272), np.int64(2292), np.int64(2318), np.int64(2326), np.int64(2340), np.int64(2352), np.int64(2369), np.int64(2375), np.int64(2383), np.int64(2447), np.int64(2453), np.int64(2459), np.int64(2464), np.int64(2467), np.int64(2468), np.int64(2478), np.int64(2483), np.int64(2493), np.int64(2498), np.int64(2503), np.int64(2505), np.int64(2553), np.int64(2602), np.int64(2611), np.int64(2643), np.int64(2651), np.int64(2696), np.int64(2713), np.int64(2743), np.int64(2744), np.int64(2755), np.int64(2760), np.int64(2762), np.int64(2807), np.int64(2825), np.int64(2829), np.int64(2854), np.int64(2867), np.int64(2883), np.int64(2915), np.int64(2964), np.int64(2999), np.int64(3016), np.int64(3045), np.int64(3066), np.int64(3068), np.int64(3075), np.int64(3121), np.int64(3133), np.int64(3143), np.int64(3215), np.int64(3264), np.int64(3330), np.int64(3341), np.int64(3385), np.int64(3387), np.int64(3403), np.int64(3407), np.int64(3422), np.int64(3433), np.int64(3434), np.int64(3445), np.int64(3455), np.int64(3495), np.int64(3510), np.int64(3514), np.int64(3522), np.int64(3538), np.int64(3543), np.int64(3552), np.int64(3565), np.int64(3579), np.int64(3587), np.int64(3638), np.int64(3642), np.int64(3656), np.int64(3676), np.int64(3704), np.int64(3723), np.int64(3724), np.int64(3765), np.int64(3789), np.int64(3806), np.int64(3812), np.int64(3887), np.int64(3891), np.int64(3933), np.int64(3947), np.int64(3950), np.int64(3978), np.int64(3981), np.int64(4036), np.int64(4048), np.int64(4098), np.int64(4105), np.int64(4118), np.int64(4135), np.int64(4149), np.int64(4172), np.int64(4179), np.int64(4186), np.int64(4227), np.int64(4230), np.int64(4247), np.int64(4265), np.int64(4285), np.int64(4290), np.int64(4310), np.int64(4320), np.int64(4359), np.int64(4379), np.int64(4396), np.int64(4426), np.int64(4446), np.int64(4466), np.int64(4505), np.int64(4514), np.int64(4526), np.int64(4551), np.int64(4601), np.int64(4656), np.int64(4681), np.int64(4708), np.int64(4720), np.int64(4748), np.int64(4772), np.int64(4774), np.int64(4780), np.int64(4785), np.int64(4804), np.int64(4806), np.int64(4812), np.int64(4813), np.int64(4827), np.int64(4912), np.int64(4917), np.int64(4949), np.int64(5008), np.int64(5012), np.int64(5021), np.int64(5047), np.int64(5058), np.int64(5070), np.int64(5109), np.int64(5138), np.int64(5156), np.int64(5180)]\n",
      "Predictions for Changed Indices: [8.7454914e-09 4.9178166e-08 6.5326432e-08 4.0678364e-07 4.8147109e-07\n",
      " 5.0621708e-07 6.6759429e-07 6.7791018e-07 7.8842908e-07 8.6817801e-07\n",
      " 9.4510557e-07 9.5379073e-07 1.0041176e-06 1.0419724e-06 1.0681204e-06\n",
      " 1.0805153e-06 1.1233801e-06 1.1406205e-06 1.1416716e-06 1.1538555e-06\n",
      " 1.2312950e-06 1.2460990e-06 1.2701067e-06 1.3260403e-06 1.3746859e-06\n",
      " 1.3809694e-06 1.3838802e-06 1.4656190e-06 1.4663628e-06 1.4697257e-06\n",
      " 1.4907180e-06 1.5161340e-06 1.5738259e-06 1.6306590e-06 1.6381906e-06\n",
      " 1.6707337e-06 1.6794688e-06 1.6833428e-06 1.6872096e-06 1.7464076e-06\n",
      " 1.7681029e-06 1.7860057e-06 1.7939212e-06 1.8002951e-06 1.8063902e-06\n",
      " 1.8387078e-06 1.8493561e-06 1.8686075e-06 1.8980552e-06 1.9301381e-06\n",
      " 1.9321549e-06 1.9902473e-06 1.9982961e-06 2.0077612e-06 2.0269306e-06\n",
      " 2.0293212e-06 2.0305022e-06 2.0828886e-06 2.1163069e-06 2.1365695e-06\n",
      " 2.1375988e-06 2.2414129e-06 2.2559268e-06 2.2764884e-06 2.3240752e-06\n",
      " 2.3822017e-06 2.4302801e-06 2.4582143e-06 2.4702374e-06 2.4925432e-06\n",
      " 2.4974497e-06 2.5024515e-06 2.5492150e-06 2.5683903e-06 2.5775628e-06\n",
      " 2.6030905e-06 2.6075804e-06 2.6103794e-06 2.6481055e-06 2.6506677e-06\n",
      " 2.6727209e-06 2.7427541e-06 2.7777592e-06 2.7892531e-06 2.8015857e-06\n",
      " 2.8117113e-06 2.8142358e-06 2.8840520e-06 2.9459002e-06 2.9513192e-06\n",
      " 2.9773953e-06 2.9787075e-06 3.0011997e-06 3.0243546e-06 3.0324788e-06\n",
      " 3.0498775e-06 3.0526974e-06 3.1195007e-06 3.1389282e-06 3.1441739e-06\n",
      " 3.1780889e-06 3.1792556e-06 3.2051535e-06 3.2157043e-06 3.2164680e-06\n",
      " 3.2191042e-06 3.2265175e-06 3.2400044e-06 3.2418218e-06 3.2515409e-06\n",
      " 3.2621790e-06 3.2639996e-06 3.2708704e-06 3.2716564e-06 3.2858052e-06\n",
      " 3.3104518e-06 3.4066788e-06 3.4315838e-06 3.4430045e-06 3.4556458e-06\n",
      " 3.4699585e-06 3.4725147e-06 3.5499904e-06 3.5548521e-06 3.5599921e-06\n",
      " 3.5630180e-06 3.6100064e-06 3.6245124e-06 3.6308813e-06 3.6354618e-06\n",
      " 3.6720662e-06 3.6999597e-06 3.7195912e-06 3.7213265e-06 3.7408288e-06\n",
      " 3.7522805e-06 3.7957363e-06 3.8002743e-06 3.8273633e-06 3.8289227e-06\n",
      " 3.8325247e-06 3.8495914e-06 3.8662356e-06 3.8768876e-06 3.8914750e-06\n",
      " 3.9067727e-06 3.9086844e-06 3.9196625e-06 3.9693737e-06 3.9911965e-06\n",
      " 4.0075661e-06 4.0115892e-06 4.0640157e-06 4.0646632e-06 4.0651516e-06\n",
      " 4.0680684e-06 4.0713130e-06 4.0754694e-06 4.0885884e-06 4.0919590e-06\n",
      " 4.1065523e-06 4.1078642e-06 4.1216535e-06 4.1365424e-06 4.1575076e-06\n",
      " 4.1596609e-06 4.1828962e-06 4.1857697e-06 4.2393126e-06 4.2634115e-06\n",
      " 4.2691199e-06 4.3011755e-06 4.3636578e-06 4.4020821e-06 4.4031449e-06\n",
      " 4.4152930e-06 4.4251192e-06 4.4325739e-06 4.4337366e-06 4.4343537e-06\n",
      " 4.4429466e-06 4.5272591e-06 4.5337870e-06 4.5610695e-06 4.5703964e-06\n",
      " 4.5931788e-06 4.5979777e-06 4.5996753e-06 4.5999868e-06 4.6229475e-06\n",
      " 4.6462756e-06 4.6583041e-06 4.6724927e-06 4.6834266e-06 4.6866035e-06\n",
      " 4.7071367e-06 4.7077783e-06 4.7251451e-06 4.7267854e-06 4.7300955e-06\n",
      " 4.7703411e-06 4.8065813e-06 4.8128104e-06 4.8203988e-06 4.8288648e-06\n",
      " 4.8360357e-06 4.8641073e-06 4.8952720e-06]\n",
      "FOR CHECKING -- THE EAGLES WHICH THE MODEL GOT EVEN MORE CONFIDENT WASN'T EAGLES: [np.int64(578), np.int64(530)]\n",
      "Total Number of Eagles the model believes are not eagles 2\n",
      "Total Number of images the model believes are not eagles 208\n",
      "Change ratio: 0.0400\n",
      "Iteration 2...\n",
      "\u001b[1m  5/163\u001b[0m \u001b[37m━━━━━━━━━━━━━━━━━━━━\u001b[0m \u001b[1m6s\u001b[0m 42ms/step "
     ]
    },
    {
     "name": "stderr",
     "output_type": "stream",
     "text": [
      "2024-12-02 21:43:35.428100: E tensorflow/core/framework/node_def_util.cc:676] NodeDef mentions attribute use_unbounded_threadpool which is not in the op definition: Op<name=MapDataset; signature=input_dataset:variant, other_arguments: -> handle:variant; attr=f:func; attr=Targuments:list(type),min=0; attr=output_types:list(type),min=1; attr=output_shapes:list(shape),min=1; attr=use_inter_op_parallelism:bool,default=true; attr=preserve_cardinality:bool,default=false; attr=force_synchronous:bool,default=false; attr=metadata:string,default=\"\"> This may be expected if your graph generating binary is newer  than this binary. Unknown attributes will be ignored. NodeDef: {{node ParallelMapDatasetV2/_15}}\n"
     ]
    },
    {
     "name": "stdout",
     "output_type": "stream",
     "text": [
      "\u001b[1m163/163\u001b[0m \u001b[32m━━━━━━━━━━━━━━━━━━━━\u001b[0m\u001b[37m\u001b[0m \u001b[1m7s\u001b[0m 42ms/step\n",
      "Adjusted 197 indices, avg confidence: 0.0000\n",
      "Changed Indices: [np.int64(731), np.int64(1307), np.int64(1339), np.int64(1400), np.int64(1463), np.int64(1468), np.int64(1487), np.int64(1502), np.int64(1513), np.int64(1521), np.int64(1545), np.int64(1570), np.int64(1611), np.int64(1623), np.int64(1665), np.int64(1666), np.int64(1681), np.int64(1688), np.int64(1696), np.int64(1711), np.int64(1715), np.int64(1719), np.int64(1768), np.int64(1773), np.int64(1778), np.int64(1780), np.int64(1795), np.int64(1859), np.int64(1897), np.int64(1899), np.int64(1965), np.int64(1971), np.int64(1976), np.int64(1984), np.int64(2061), np.int64(2073), np.int64(2079), np.int64(2083), np.int64(2100), np.int64(2103), np.int64(2114), np.int64(2148), np.int64(2160), np.int64(2229), np.int64(2290), np.int64(2296), np.int64(2299), np.int64(2307), np.int64(2313), np.int64(2327), np.int64(2348), np.int64(2357), np.int64(2389), np.int64(2412), np.int64(2423), np.int64(2446), np.int64(2449), np.int64(2499), np.int64(2508), np.int64(2514), np.int64(2519), np.int64(2540), np.int64(2556), np.int64(2587), np.int64(2608), np.int64(2630), np.int64(2632), np.int64(2637), np.int64(2670), np.int64(2742), np.int64(2754), np.int64(2774), np.int64(2805), np.int64(2808), np.int64(2836), np.int64(2922), np.int64(2923), np.int64(2939), np.int64(2965), np.int64(2972), np.int64(2991), np.int64(3000), np.int64(3020), np.int64(3069), np.int64(3095), np.int64(3119), np.int64(3131), np.int64(3132), np.int64(3149), np.int64(3159), np.int64(3198), np.int64(3200), np.int64(3220), np.int64(3235), np.int64(3246), np.int64(3251), np.int64(3262), np.int64(3268), np.int64(3302), np.int64(3307), np.int64(3373), np.int64(3376), np.int64(3420), np.int64(3438), np.int64(3464), np.int64(3544), np.int64(3547), np.int64(3566), np.int64(3585), np.int64(3617), np.int64(3618), np.int64(3623), np.int64(3627), np.int64(3634), np.int64(3696), np.int64(3761), np.int64(3796), np.int64(3804), np.int64(3805), np.int64(3813), np.int64(3833), np.int64(3837), np.int64(3851), np.int64(3860), np.int64(3876), np.int64(3914), np.int64(3923), np.int64(3958), np.int64(3977), np.int64(4011), np.int64(4025), np.int64(4051), np.int64(4079), np.int64(4089), np.int64(4112), np.int64(4156), np.int64(4175), np.int64(4192), np.int64(4207), np.int64(4219), np.int64(4232), np.int64(4243), np.int64(4262), np.int64(4272), np.int64(4282), np.int64(4288), np.int64(4297), np.int64(4342), np.int64(4363), np.int64(4367), np.int64(4382), np.int64(4404), np.int64(4433), np.int64(4443), np.int64(4479), np.int64(4485), np.int64(4503), np.int64(4530), np.int64(4586), np.int64(4650), np.int64(4651), np.int64(4660), np.int64(4666), np.int64(4683), np.int64(4697), np.int64(4757), np.int64(4761), np.int64(4782), np.int64(4786), np.int64(4788), np.int64(4791), np.int64(4809), np.int64(4818), np.int64(4837), np.int64(4840), np.int64(4844), np.int64(4848), np.int64(4852), np.int64(4853), np.int64(4856), np.int64(4857), np.int64(4863), np.int64(4875), np.int64(4889), np.int64(4971), np.int64(4980), np.int64(4993), np.int64(5002), np.int64(5010), np.int64(5026), np.int64(5043), np.int64(5073), np.int64(5084), np.int64(5113), np.int64(5123), np.int64(5128), np.int64(5162)]\n",
      "Predictions for Changed Indices: [2.1148260e-06 2.1254084e-06 2.1603637e-06 2.2529341e-06 2.2619113e-06\n",
      " 2.2627721e-06 2.2876336e-06 2.3098364e-06 2.3269870e-06 2.3394880e-06\n",
      " 2.3542752e-06 2.3573780e-06 2.3644186e-06 2.3733987e-06 2.3794498e-06\n",
      " 2.4110341e-06 2.4144347e-06 2.4266947e-06 2.4271669e-06 2.4654007e-06\n",
      " 2.4685653e-06 2.4831927e-06 2.5051065e-06 2.5120994e-06 2.5151055e-06\n",
      " 2.5273248e-06 2.5374707e-06 2.5395307e-06 2.5397171e-06 2.5503114e-06\n",
      " 2.5679251e-06 2.6290670e-06 2.6293028e-06 2.6614227e-06 2.6697737e-06\n",
      " 2.6702446e-06 2.6730397e-06 2.6737764e-06 2.6745797e-06 2.6794689e-06\n",
      " 2.6834225e-06 2.6868076e-06 2.7095234e-06 2.7102910e-06 2.7123156e-06\n",
      " 2.7230481e-06 2.7342144e-06 2.7447952e-06 2.7534757e-06 2.7566839e-06\n",
      " 2.7743467e-06 2.7810247e-06 2.7968447e-06 2.8050210e-06 2.8105774e-06\n",
      " 2.8228585e-06 2.8277191e-06 2.8410889e-06 2.8447762e-06 2.8744087e-06\n",
      " 2.8808277e-06 2.8839831e-06 2.8881889e-06 2.8923591e-06 2.9011967e-06\n",
      " 2.9107273e-06 2.9209523e-06 2.9327873e-06 2.9359858e-06 2.9440298e-06\n",
      " 2.9542082e-06 2.9816804e-06 2.9893163e-06 2.9901205e-06 3.0140091e-06\n",
      " 3.0165800e-06 3.0170088e-06 3.0200226e-06 3.0264002e-06 3.0486126e-06\n",
      " 3.0514514e-06 3.0790350e-06 3.0812819e-06 3.0907381e-06 3.0936044e-06\n",
      " 3.0948820e-06 3.0974422e-06 3.1075879e-06 3.1179213e-06 3.1182603e-06\n",
      " 3.1190752e-06 3.1199679e-06 3.1237785e-06 3.1314860e-06 3.1318950e-06\n",
      " 3.1426812e-06 3.1507354e-06 3.1603774e-06 3.1711618e-06 3.1741724e-06\n",
      " 3.1812697e-06 3.1918178e-06 3.1944915e-06 3.2009839e-06 3.2045059e-06\n",
      " 3.2132887e-06 3.2141038e-06 3.2245148e-06 3.2507442e-06 3.2549663e-06\n",
      " 3.2650673e-06 3.2656840e-06 3.2750779e-06 3.2851126e-06 3.3393162e-06\n",
      " 3.3473032e-06 3.3478555e-06 3.3544354e-06 3.3666940e-06 3.3722149e-06\n",
      " 3.3784597e-06 3.4282798e-06 3.4284469e-06 3.4378404e-06 3.4386073e-06\n",
      " 3.4497884e-06 3.4597449e-06 3.4626300e-06 3.4814377e-06 3.4883931e-06\n",
      " 3.4888890e-06 3.5036533e-06 3.5050637e-06 3.5103758e-06 3.5151797e-06\n",
      " 3.5226567e-06 3.5381372e-06 3.5385253e-06 3.5506000e-06 3.5700862e-06\n",
      " 3.5713731e-06 3.5951025e-06 3.5958979e-06 3.6147637e-06 3.6162637e-06\n",
      " 3.6189617e-06 3.6191270e-06 3.6223526e-06 3.6232507e-06 3.6232577e-06\n",
      " 3.6234305e-06 3.6407528e-06 3.6425208e-06 3.6458014e-06 3.6480274e-06\n",
      " 3.6504493e-06 3.6785157e-06 3.6842803e-06 3.6888543e-06 3.7240350e-06\n",
      " 3.7316822e-06 3.7526061e-06 3.7542061e-06 3.7813884e-06 3.8078240e-06\n",
      " 3.8131950e-06 3.8269109e-06 3.8349231e-06 3.8476605e-06 3.8594535e-06\n",
      " 3.8606759e-06 3.8859416e-06 3.8983762e-06 3.9032348e-06 3.9077490e-06\n",
      " 3.9310653e-06 3.9395659e-06 3.9400957e-06 3.9448560e-06 3.9598872e-06\n",
      " 3.9601555e-06 3.9817601e-06 3.9852171e-06 3.9859051e-06 3.9917672e-06\n",
      " 3.9917900e-06 3.9951074e-06 3.9976035e-06 3.9992433e-06 4.0013642e-06\n",
      " 4.0079867e-06 4.0148616e-06 4.0187651e-06 4.0352634e-06 4.0459872e-06\n",
      " 4.0741793e-06 4.0756172e-06]\n",
      "FOR CHECKING -- THE EAGLES WHICH THE MODEL GOT EVEN MORE CONFIDENT WASN'T EAGLES: [np.int64(731)]\n",
      "Total Number of Eagles the model believes are not eagles 3\n",
      "Total Number of images the model believes are not eagles 405\n",
      "Change ratio: 0.0379\n",
      "Iteration 3...\n",
      "\u001b[1m  5/163\u001b[0m \u001b[37m━━━━━━━━━━━━━━━━━━━━\u001b[0m \u001b[1m6s\u001b[0m 42ms/step "
     ]
    },
    {
     "name": "stderr",
     "output_type": "stream",
     "text": [
      "2024-12-02 21:44:07.944383: E tensorflow/core/framework/node_def_util.cc:676] NodeDef mentions attribute use_unbounded_threadpool which is not in the op definition: Op<name=MapDataset; signature=input_dataset:variant, other_arguments: -> handle:variant; attr=f:func; attr=Targuments:list(type),min=0; attr=output_types:list(type),min=1; attr=output_shapes:list(shape),min=1; attr=use_inter_op_parallelism:bool,default=true; attr=preserve_cardinality:bool,default=false; attr=force_synchronous:bool,default=false; attr=metadata:string,default=\"\"> This may be expected if your graph generating binary is newer  than this binary. Unknown attributes will be ignored. NodeDef: {{node ParallelMapDatasetV2/_15}}\n"
     ]
    },
    {
     "name": "stdout",
     "output_type": "stream",
     "text": [
      "\u001b[1m163/163\u001b[0m \u001b[32m━━━━━━━━━━━━━━━━━━━━\u001b[0m\u001b[37m\u001b[0m \u001b[1m7s\u001b[0m 42ms/step\n",
      "Adjusted 187 indices, avg confidence: 0.0000\n",
      "Changed Indices: [np.int64(1308), np.int64(1344), np.int64(1376), np.int64(1383), np.int64(1388), np.int64(1418), np.int64(1470), np.int64(1493), np.int64(1552), np.int64(1578), np.int64(1580), np.int64(1609), np.int64(1786), np.int64(1812), np.int64(1817), np.int64(1828), np.int64(1833), np.int64(1835), np.int64(1842), np.int64(1889), np.int64(1905), np.int64(1913), np.int64(1942), np.int64(1954), np.int64(1962), np.int64(1981), np.int64(1982), np.int64(1987), np.int64(1998), np.int64(2002), np.int64(2016), np.int64(2035), np.int64(2038), np.int64(2046), np.int64(2075), np.int64(2094), np.int64(2112), np.int64(2131), np.int64(2133), np.int64(2156), np.int64(2157), np.int64(2161), np.int64(2183), np.int64(2190), np.int64(2359), np.int64(2360), np.int64(2372), np.int64(2380), np.int64(2395), np.int64(2397), np.int64(2422), np.int64(2495), np.int64(2555), np.int64(2557), np.int64(2564), np.int64(2569), np.int64(2601), np.int64(2615), np.int64(2623), np.int64(2638), np.int64(2655), np.int64(2660), np.int64(2665), np.int64(2686), np.int64(2690), np.int64(2703), np.int64(2729), np.int64(2756), np.int64(2761), np.int64(2813), np.int64(2844), np.int64(2859), np.int64(2871), np.int64(2885), np.int64(2898), np.int64(2901), np.int64(2921), np.int64(2940), np.int64(2960), np.int64(2983), np.int64(2987), np.int64(2995), np.int64(3009), np.int64(3025), np.int64(3039), np.int64(3044), np.int64(3059), np.int64(3093), np.int64(3104), np.int64(3155), np.int64(3167), np.int64(3189), np.int64(3233), np.int64(3316), np.int64(3324), np.int64(3333), np.int64(3344), np.int64(3360), np.int64(3427), np.int64(3439), np.int64(3451), np.int64(3460), np.int64(3489), np.int64(3497), np.int64(3499), np.int64(3527), np.int64(3573), np.int64(3584), np.int64(3593), np.int64(3596), np.int64(3600), np.int64(3613), np.int64(3649), np.int64(3670), np.int64(3678), np.int64(3684), np.int64(3706), np.int64(3725), np.int64(3754), np.int64(3819), np.int64(3870), np.int64(3902), np.int64(3908), np.int64(3957), np.int64(3975), np.int64(3987), np.int64(4003), np.int64(4017), np.int64(4029), np.int64(4032), np.int64(4034), np.int64(4055), np.int64(4071), np.int64(4073), np.int64(4083), np.int64(4093), np.int64(4106), np.int64(4128), np.int64(4129), np.int64(4240), np.int64(4260), np.int64(4318), np.int64(4328), np.int64(4335), np.int64(4355), np.int64(4361), np.int64(4394), np.int64(4399), np.int64(4414), np.int64(4424), np.int64(4442), np.int64(4448), np.int64(4450), np.int64(4475), np.int64(4486), np.int64(4499), np.int64(4509), np.int64(4550), np.int64(4567), np.int64(4588), np.int64(4629), np.int64(4634), np.int64(4659), np.int64(4687), np.int64(4694), np.int64(4705), np.int64(4743), np.int64(4744), np.int64(4745), np.int64(4778), np.int64(4829), np.int64(4842), np.int64(4877), np.int64(4899), np.int64(4923), np.int64(4939), np.int64(4952), np.int64(4958), np.int64(4988), np.int64(4994), np.int64(4996), np.int64(5097), np.int64(5100), np.int64(5135), np.int64(5164), np.int64(5175), np.int64(5186)]\n",
      "Predictions for Changed Indices: [4.5125598e-06 4.8507331e-06 5.8275286e-06 5.8598239e-06 5.8853111e-06\n",
      " 5.8853111e-06 5.9954218e-06 6.0514517e-06 6.0841226e-06 6.1762098e-06\n",
      " 6.2049194e-06 6.2569193e-06 6.2630870e-06 6.2641616e-06 6.3346902e-06\n",
      " 6.3410366e-06 6.3420703e-06 6.3699717e-06 6.3769926e-06 6.3818284e-06\n",
      " 6.3902630e-06 6.3944635e-06 6.4547153e-06 6.4585702e-06 6.4764940e-06\n",
      " 6.4891929e-06 6.5184254e-06 6.5505365e-06 6.5757736e-06 6.5881895e-06\n",
      " 6.5974191e-06 6.6158427e-06 6.6171929e-06 6.6382272e-06 6.6760786e-06\n",
      " 6.6982461e-06 6.6994471e-06 6.7103688e-06 6.7456649e-06 6.7624442e-06\n",
      " 6.7945853e-06 6.8225122e-06 6.8535919e-06 6.8571157e-06 6.8992276e-06\n",
      " 6.9084585e-06 6.9155903e-06 6.9189018e-06 6.9354965e-06 6.9430143e-06\n",
      " 6.9560047e-06 6.9871130e-06 6.9924522e-06 6.9931193e-06 7.0116639e-06\n",
      " 7.0154160e-06 7.0214533e-06 7.0261685e-06 7.0313567e-06 7.0379988e-06\n",
      " 7.0415035e-06 7.0666297e-06 7.0933947e-06 7.0944361e-06 7.1152576e-06\n",
      " 7.1645281e-06 7.1842396e-06 7.1928780e-06 7.2081016e-06 7.2162038e-06\n",
      " 7.2527846e-06 7.2536486e-06 7.2619896e-06 7.2762837e-06 7.2790872e-06\n",
      " 7.3125957e-06 7.3305973e-06 7.3323586e-06 7.3362971e-06 7.3661831e-06\n",
      " 7.4089476e-06 7.4175232e-06 7.4396266e-06 7.4591562e-06 7.4700615e-06\n",
      " 7.4740947e-06 7.4892218e-06 7.4973400e-06 7.5088747e-06 7.5226867e-06\n",
      " 7.5422895e-06 7.5610437e-06 7.5631274e-06 7.5871831e-06 7.5882044e-06\n",
      " 7.5913167e-06 7.5953571e-06 7.6046194e-06 7.6069118e-06 7.6305041e-06\n",
      " 7.6494844e-06 7.6566512e-06 7.6593169e-06 7.6634442e-06 7.6672459e-06\n",
      " 7.6709248e-06 7.6805218e-06 7.7241530e-06 7.7291497e-06 7.7312507e-06\n",
      " 7.7752302e-06 7.7911736e-06 7.7979603e-06 7.8109106e-06 7.8332750e-06\n",
      " 7.8609191e-06 7.8836820e-06 7.8883068e-06 7.9183874e-06 7.9323472e-06\n",
      " 7.9450592e-06 7.9664087e-06 7.9862548e-06 7.9929523e-06 8.0007239e-06\n",
      " 8.0177879e-06 8.0315858e-06 8.0319687e-06 8.0341142e-06 8.0356076e-06\n",
      " 8.0519394e-06 8.0762957e-06 8.0817508e-06 8.1285843e-06 8.1380467e-06\n",
      " 8.1402977e-06 8.1472408e-06 8.1514381e-06 8.1644539e-06 8.1876824e-06\n",
      " 8.1877597e-06 8.1901180e-06 8.2095512e-06 8.2221104e-06 8.2373681e-06\n",
      " 8.2423894e-06 8.2497972e-06 8.2672032e-06 8.2706174e-06 8.3021014e-06\n",
      " 8.3026234e-06 8.3031136e-06 8.3313516e-06 8.3451714e-06 8.3549585e-06\n",
      " 8.3751329e-06 8.3769382e-06 8.3778496e-06 8.4824997e-06 8.5142128e-06\n",
      " 8.5168922e-06 8.5202073e-06 8.5322490e-06 8.5588572e-06 8.5636093e-06\n",
      " 8.6022274e-06 8.6025475e-06 8.6308728e-06 8.6412174e-06 8.6758073e-06\n",
      " 8.6764276e-06 8.6779419e-06 8.6783812e-06 8.6886494e-06 8.6942191e-06\n",
      " 8.7328590e-06 8.7407170e-06 8.7471799e-06 8.7477965e-06 8.7526205e-06\n",
      " 8.7613553e-06 8.7829558e-06 8.8273091e-06 8.8322777e-06 8.8450051e-06\n",
      " 8.8922416e-06 8.8976458e-06]\n",
      "FOR CHECKING -- THE EAGLES WHICH THE MODEL GOT EVEN MORE CONFIDENT WASN'T EAGLES: []\n",
      "Total Number of Eagles the model believes are not eagles 3\n",
      "Total Number of images the model believes are not eagles 592\n",
      "Change ratio: 0.0360\n",
      "Iteration 4...\n",
      "\u001b[1m  5/163\u001b[0m \u001b[37m━━━━━━━━━━━━━━━━━━━━\u001b[0m \u001b[1m6s\u001b[0m 42ms/step "
     ]
    },
    {
     "name": "stderr",
     "output_type": "stream",
     "text": [
      "2024-12-02 21:44:40.673121: E tensorflow/core/framework/node_def_util.cc:676] NodeDef mentions attribute use_unbounded_threadpool which is not in the op definition: Op<name=MapDataset; signature=input_dataset:variant, other_arguments: -> handle:variant; attr=f:func; attr=Targuments:list(type),min=0; attr=output_types:list(type),min=1; attr=output_shapes:list(shape),min=1; attr=use_inter_op_parallelism:bool,default=true; attr=preserve_cardinality:bool,default=false; attr=force_synchronous:bool,default=false; attr=metadata:string,default=\"\"> This may be expected if your graph generating binary is newer  than this binary. Unknown attributes will be ignored. NodeDef: {{node ParallelMapDatasetV2/_15}}\n"
     ]
    },
    {
     "name": "stdout",
     "output_type": "stream",
     "text": [
      "\u001b[1m163/163\u001b[0m \u001b[32m━━━━━━━━━━━━━━━━━━━━\u001b[0m\u001b[37m\u001b[0m \u001b[1m7s\u001b[0m 42ms/step\n",
      "Adjusted 178 indices, avg confidence: 0.0000\n",
      "Changed Indices: [np.int64(1331), np.int64(1349), np.int64(1387), np.int64(1430), np.int64(1436), np.int64(1518), np.int64(1526), np.int64(1553), np.int64(1607), np.int64(1619), np.int64(1620), np.int64(1629), np.int64(1689), np.int64(1701), np.int64(1716), np.int64(1718), np.int64(1724), np.int64(1731), np.int64(1744), np.int64(1762), np.int64(1770), np.int64(1826), np.int64(1840), np.int64(1858), np.int64(1928), np.int64(1943), np.int64(1979), np.int64(1994), np.int64(1999), np.int64(2008), np.int64(2015), np.int64(2045), np.int64(2066), np.int64(2121), np.int64(2180), np.int64(2203), np.int64(2217), np.int64(2225), np.int64(2239), np.int64(2297), np.int64(2315), np.int64(2364), np.int64(2426), np.int64(2433), np.int64(2435), np.int64(2482), np.int64(2512), np.int64(2528), np.int64(2549), np.int64(2551), np.int64(2559), np.int64(2563), np.int64(2565), np.int64(2570), np.int64(2575), np.int64(2579), np.int64(2584), np.int64(2598), np.int64(2605), np.int64(2657), np.int64(2797), np.int64(2798), np.int64(2828), np.int64(2830), np.int64(2839), np.int64(2842), np.int64(2845), np.int64(2886), np.int64(2959), np.int64(2982), np.int64(2988), np.int64(3013), np.int64(3017), np.int64(3023), np.int64(3031), np.int64(3055), np.int64(3060), np.int64(3087), np.int64(3101), np.int64(3130), np.int64(3137), np.int64(3141), np.int64(3157), np.int64(3181), np.int64(3196), np.int64(3222), np.int64(3223), np.int64(3228), np.int64(3248), np.int64(3271), np.int64(3273), np.int64(3276), np.int64(3284), np.int64(3305), np.int64(3308), np.int64(3310), np.int64(3323), np.int64(3338), np.int64(3348), np.int64(3354), np.int64(3359), np.int64(3364), np.int64(3386), np.int64(3413), np.int64(3442), np.int64(3483), np.int64(3511), np.int64(3516), np.int64(3534), np.int64(3548), np.int64(3582), np.int64(3679), np.int64(3700), np.int64(3710), np.int64(3736), np.int64(3758), np.int64(3776), np.int64(3783), np.int64(3854), np.int64(3856), np.int64(3866), np.int64(3879), np.int64(3881), np.int64(3916), np.int64(3925), np.int64(3942), np.int64(3964), np.int64(3986), np.int64(4002), np.int64(4010), np.int64(4061), np.int64(4065), np.int64(4070), np.int64(4088), np.int64(4122), np.int64(4124), np.int64(4144), np.int64(4157), np.int64(4160), np.int64(4178), np.int64(4212), np.int64(4222), np.int64(4251), np.int64(4266), np.int64(4300), np.int64(4323), np.int64(4338), np.int64(4413), np.int64(4465), np.int64(4491), np.int64(4492), np.int64(4512), np.int64(4524), np.int64(4572), np.int64(4577), np.int64(4589), np.int64(4603), np.int64(4607), np.int64(4608), np.int64(4614), np.int64(4633), np.int64(4676), np.int64(4734), np.int64(4766), np.int64(4819), np.int64(4887), np.int64(4905), np.int64(4926), np.int64(4950), np.int64(4981), np.int64(5004), np.int64(5006), np.int64(5112), np.int64(5132), np.int64(5133), np.int64(5144), np.int64(5155), np.int64(5167)]\n",
      "Predictions for Changed Indices: [6.7231158e-06 6.9327989e-06 6.9700222e-06 7.0125534e-06 7.1109434e-06\n",
      " 7.1142808e-06 7.1228219e-06 7.2067405e-06 7.2206994e-06 7.2306775e-06\n",
      " 7.2588182e-06 7.2705816e-06 7.2918292e-06 7.2946118e-06 7.3113270e-06\n",
      " 7.3868796e-06 7.3924325e-06 7.3946749e-06 7.4143763e-06 7.4249833e-06\n",
      " 7.4310683e-06 7.4407694e-06 7.4439058e-06 7.4621803e-06 7.4643654e-06\n",
      " 7.4664154e-06 7.4796289e-06 7.4912714e-06 7.5173866e-06 7.5202829e-06\n",
      " 7.5305456e-06 7.5439593e-06 7.5505882e-06 7.5651396e-06 7.5961830e-06\n",
      " 7.5981393e-06 7.6170900e-06 7.6317483e-06 7.6325196e-06 7.6344268e-06\n",
      " 7.6454726e-06 7.6601282e-06 7.6653960e-06 7.6680508e-06 7.6725710e-06\n",
      " 7.6755941e-06 7.6782298e-06 7.6784563e-06 7.6875422e-06 7.7182704e-06\n",
      " 7.7227032e-06 7.7350041e-06 7.7353507e-06 7.7373797e-06 7.7477471e-06\n",
      " 7.7575878e-06 7.7645673e-06 7.7783970e-06 7.7784116e-06 7.7799177e-06\n",
      " 7.7822106e-06 7.7871546e-06 7.8009061e-06 7.8095854e-06 7.8151133e-06\n",
      " 7.8193925e-06 7.8344628e-06 7.8366975e-06 7.8439498e-06 7.8567145e-06\n",
      " 7.8714966e-06 7.8910762e-06 7.9024703e-06 7.9280744e-06 7.9332776e-06\n",
      " 7.9502279e-06 7.9523279e-06 7.9814590e-06 7.9943557e-06 8.0000909e-06\n",
      " 8.0057689e-06 8.0126738e-06 8.0236314e-06 8.0259506e-06 8.0375476e-06\n",
      " 8.0633281e-06 8.0692434e-06 8.0740538e-06 8.0913360e-06 8.0939599e-06\n",
      " 8.1013659e-06 8.1249646e-06 8.1272665e-06 8.1332055e-06 8.1424796e-06\n",
      " 8.1429844e-06 8.1577691e-06 8.1636517e-06 8.2146735e-06 8.2351062e-06\n",
      " 8.2590077e-06 8.2650668e-06 8.2679990e-06 8.2699707e-06 8.2771512e-06\n",
      " 8.2905808e-06 8.2945980e-06 8.3020368e-06 8.3035738e-06 8.3063142e-06\n",
      " 8.3067098e-06 8.3126533e-06 8.3174264e-06 8.3398963e-06 8.3558907e-06\n",
      " 8.3617579e-06 8.3644454e-06 8.3787445e-06 8.3802624e-06 8.3927553e-06\n",
      " 8.3996101e-06 8.4001540e-06 8.4023659e-06 8.4195481e-06 8.4217718e-06\n",
      " 8.4531939e-06 8.4548055e-06 8.4670955e-06 8.4704789e-06 8.4784961e-06\n",
      " 8.4815374e-06 8.4882613e-06 8.4886178e-06 8.4893618e-06 8.4985395e-06\n",
      " 8.5147485e-06 8.5155280e-06 8.5201982e-06 8.5218890e-06 8.5273605e-06\n",
      " 8.5334941e-06 8.5742822e-06 8.5756637e-06 8.5917491e-06 8.5923393e-06\n",
      " 8.5923639e-06 8.5968641e-06 8.6121099e-06 8.6145255e-06 8.6173359e-06\n",
      " 8.6219798e-06 8.6394875e-06 8.6442924e-06 8.6535629e-06 8.6672562e-06\n",
      " 8.6678929e-06 8.7008302e-06 8.7026474e-06 8.7035360e-06 8.7211329e-06\n",
      " 8.7223971e-06 8.7336175e-06 8.7603948e-06 8.7832823e-06 8.7973658e-06\n",
      " 8.8098586e-06 8.8146153e-06 8.8192319e-06 8.8736224e-06 8.8795387e-06\n",
      " 8.8827910e-06 8.8851466e-06 8.8932511e-06 8.9223049e-06 8.9468431e-06\n",
      " 8.9527666e-06 8.9593095e-06 8.9625819e-06]\n",
      "FOR CHECKING -- THE EAGLES WHICH THE MODEL GOT EVEN MORE CONFIDENT WASN'T EAGLES: []\n",
      "Total Number of Eagles the model believes are not eagles 3\n",
      "Total Number of images the model believes are not eagles 770\n",
      "Change ratio: 0.0342\n",
      "Iteration 5...\n",
      "\u001b[1m  5/163\u001b[0m \u001b[37m━━━━━━━━━━━━━━━━━━━━\u001b[0m \u001b[1m6s\u001b[0m 43ms/step "
     ]
    },
    {
     "name": "stderr",
     "output_type": "stream",
     "text": [
      "2024-12-02 21:45:13.482331: E tensorflow/core/framework/node_def_util.cc:676] NodeDef mentions attribute use_unbounded_threadpool which is not in the op definition: Op<name=MapDataset; signature=input_dataset:variant, other_arguments: -> handle:variant; attr=f:func; attr=Targuments:list(type),min=0; attr=output_types:list(type),min=1; attr=output_shapes:list(shape),min=1; attr=use_inter_op_parallelism:bool,default=true; attr=preserve_cardinality:bool,default=false; attr=force_synchronous:bool,default=false; attr=metadata:string,default=\"\"> This may be expected if your graph generating binary is newer  than this binary. Unknown attributes will be ignored. NodeDef: {{node ParallelMapDatasetV2/_15}}\n"
     ]
    },
    {
     "name": "stdout",
     "output_type": "stream",
     "text": [
      "\u001b[1m163/163\u001b[0m \u001b[32m━━━━━━━━━━━━━━━━━━━━\u001b[0m\u001b[37m\u001b[0m \u001b[1m7s\u001b[0m 42ms/step\n",
      "Adjusted 169 indices, avg confidence: 0.0000\n",
      "Changed Indices: [np.int64(1301), np.int64(1311), np.int64(1322), np.int64(1361), np.int64(1369), np.int64(1370), np.int64(1424), np.int64(1432), np.int64(1478), np.int64(1480), np.int64(1482), np.int64(1507), np.int64(1548), np.int64(1549), np.int64(1568), np.int64(1575), np.int64(1635), np.int64(1643), np.int64(1739), np.int64(1754), np.int64(1771), np.int64(1776), np.int64(1849), np.int64(1854), np.int64(1881), np.int64(1894), np.int64(1907), np.int64(1912), np.int64(1921), np.int64(1931), np.int64(2004), np.int64(2025), np.int64(2036), np.int64(2154), np.int64(2226), np.int64(2230), np.int64(2236), np.int64(2249), np.int64(2301), np.int64(2306), np.int64(2343), np.int64(2347), np.int64(2393), np.int64(2466), np.int64(2506), np.int64(2521), np.int64(2525), np.int64(2538), np.int64(2554), np.int64(2617), np.int64(2652), np.int64(2679), np.int64(2683), np.int64(2685), np.int64(2746), np.int64(2796), np.int64(2809), np.int64(2876), np.int64(2893), np.int64(2903), np.int64(2908), np.int64(2912), np.int64(2926), np.int64(2971), np.int64(2993), np.int64(3004), np.int64(3008), np.int64(3026), np.int64(3027), np.int64(3028), np.int64(3038), np.int64(3042), np.int64(3049), np.int64(3063), np.int64(3076), np.int64(3086), np.int64(3089), np.int64(3108), np.int64(3117), np.int64(3129), np.int64(3162), np.int64(3174), np.int64(3205), np.int64(3213), np.int64(3224), np.int64(3231), np.int64(3303), np.int64(3365), np.int64(3487), np.int64(3502), np.int64(3508), np.int64(3528), np.int64(3537), np.int64(3549), np.int64(3572), np.int64(3601), np.int64(3608), np.int64(3622), np.int64(3681), np.int64(3733), np.int64(3756), np.int64(3767), np.int64(3769), np.int64(3770), np.int64(3807), np.int64(3846), np.int64(3869), np.int64(3872), np.int64(3899), np.int64(3937), np.int64(4050), np.int64(4068), np.int64(4099), np.int64(4138), np.int64(4150), np.int64(4162), np.int64(4190), np.int64(4193), np.int64(4199), np.int64(4201), np.int64(4213), np.int64(4239), np.int64(4246), np.int64(4279), np.int64(4283), np.int64(4287), np.int64(4289), np.int64(4304), np.int64(4337), np.int64(4346), np.int64(4372), np.int64(4417), np.int64(4419), np.int64(4420), np.int64(4430), np.int64(4451), np.int64(4495), np.int64(4496), np.int64(4541), np.int64(4544), np.int64(4564), np.int64(4613), np.int64(4636), np.int64(4646), np.int64(4685), np.int64(4724), np.int64(4727), np.int64(4735), np.int64(4739), np.int64(4741), np.int64(4758), np.int64(4793), np.int64(4794), np.int64(4797), np.int64(4799), np.int64(4807), np.int64(4808), np.int64(4810), np.int64(4824), np.int64(4943), np.int64(4946), np.int64(4955), np.int64(4959), np.int64(4962), np.int64(5005), np.int64(5019), np.int64(5102), np.int64(5116), np.int64(5146)]\n",
      "Predictions for Changed Indices: [8.59178999e-06 8.89691546e-06 8.96661732e-06 9.19071863e-06\n",
      " 9.23872631e-06 9.32460352e-06 9.48862089e-06 9.50555841e-06\n",
      " 9.50773392e-06 9.50858521e-06 9.54053212e-06 9.56180065e-06\n",
      " 9.57011162e-06 9.58398505e-06 9.61059050e-06 9.63038110e-06\n",
      " 9.63196089e-06 9.63368802e-06 9.66912376e-06 9.68476616e-06\n",
      " 9.69310986e-06 9.69799203e-06 9.69865778e-06 9.70819929e-06\n",
      " 9.72618636e-06 9.72917314e-06 9.76617139e-06 9.78153275e-06\n",
      " 9.79282595e-06 9.79532888e-06 9.80465666e-06 9.81718495e-06\n",
      " 9.81753146e-06 9.81863559e-06 9.82691745e-06 9.83117206e-06\n",
      " 9.83469818e-06 9.85905808e-06 9.89877753e-06 9.90049648e-06\n",
      " 9.90963963e-06 9.93545382e-06 9.95328264e-06 9.99102849e-06\n",
      " 1.00023062e-05 1.00032694e-05 1.00140460e-05 1.00416546e-05\n",
      " 1.00462630e-05 1.00528368e-05 1.00530870e-05 1.00695515e-05\n",
      " 1.01029100e-05 1.01034111e-05 1.01055593e-05 1.01116520e-05\n",
      " 1.01194564e-05 1.01371133e-05 1.01416481e-05 1.01429059e-05\n",
      " 1.01509859e-05 1.01582873e-05 1.01773612e-05 1.01813321e-05\n",
      " 1.01902488e-05 1.01916285e-05 1.02011190e-05 1.02038639e-05\n",
      " 1.02120594e-05 1.02181584e-05 1.02268250e-05 1.02303848e-05\n",
      " 1.02430577e-05 1.02439562e-05 1.02569475e-05 1.02679387e-05\n",
      " 1.02712484e-05 1.02779895e-05 1.02781269e-05 1.02844024e-05\n",
      " 1.02893264e-05 1.02903678e-05 1.02994773e-05 1.03088332e-05\n",
      " 1.03167895e-05 1.03271350e-05 1.03494367e-05 1.03573557e-05\n",
      " 1.03698476e-05 1.04059573e-05 1.04286983e-05 1.04410574e-05\n",
      " 1.04489663e-05 1.04778846e-05 1.04969076e-05 1.05027348e-05\n",
      " 1.05089675e-05 1.05359413e-05 1.05381923e-05 1.05494946e-05\n",
      " 1.05778017e-05 1.05778427e-05 1.06016059e-05 1.06045272e-05\n",
      " 1.06135021e-05 1.06232528e-05 1.06257967e-05 1.06437274e-05\n",
      " 1.06458092e-05 1.06688085e-05 1.06817688e-05 1.06862117e-05\n",
      " 1.06934494e-05 1.07070919e-05 1.07340729e-05 1.07378009e-05\n",
      " 1.07462629e-05 1.07996038e-05 1.08290787e-05 1.08379218e-05\n",
      " 1.08630156e-05 1.08758486e-05 1.08791573e-05 1.09144075e-05\n",
      " 1.09174580e-05 1.09816874e-05 1.09880566e-05 1.09886960e-05\n",
      " 1.10053606e-05 1.10157653e-05 1.10234687e-05 1.10250985e-05\n",
      " 1.10285573e-05 1.10298524e-05 1.10314822e-05 1.10597985e-05\n",
      " 1.10845594e-05 1.10849705e-05 1.10893270e-05 1.11078925e-05\n",
      " 1.11147801e-05 1.11603040e-05 1.11630179e-05 1.11831132e-05\n",
      " 1.11854715e-05 1.11870922e-05 1.12060461e-05 1.12098187e-05\n",
      " 1.12107700e-05 1.12397702e-05 1.12519965e-05 1.12638500e-05\n",
      " 1.12874641e-05 1.13422357e-05 1.13495498e-05 1.13503947e-05\n",
      " 1.13521373e-05 1.13651577e-05 1.13754368e-05 1.13996985e-05\n",
      " 1.14185759e-05 1.14297764e-05 1.14298209e-05 1.14465856e-05\n",
      " 1.14472950e-05 1.14923623e-05 1.14927780e-05 1.15211778e-05\n",
      " 1.15310486e-05]\n",
      "FOR CHECKING -- THE EAGLES WHICH THE MODEL GOT EVEN MORE CONFIDENT WASN'T EAGLES: []\n",
      "Total Number of Eagles the model believes are not eagles 3\n",
      "Total Number of images the model believes are not eagles 939\n",
      "Change ratio: 0.0325\n",
      "Iteration 6...\n",
      "\u001b[1m  5/163\u001b[0m \u001b[37m━━━━━━━━━━━━━━━━━━━━\u001b[0m \u001b[1m6s\u001b[0m 42ms/step "
     ]
    },
    {
     "name": "stderr",
     "output_type": "stream",
     "text": [
      "2024-12-02 21:45:46.022273: E tensorflow/core/framework/node_def_util.cc:676] NodeDef mentions attribute use_unbounded_threadpool which is not in the op definition: Op<name=MapDataset; signature=input_dataset:variant, other_arguments: -> handle:variant; attr=f:func; attr=Targuments:list(type),min=0; attr=output_types:list(type),min=1; attr=output_shapes:list(shape),min=1; attr=use_inter_op_parallelism:bool,default=true; attr=preserve_cardinality:bool,default=false; attr=force_synchronous:bool,default=false; attr=metadata:string,default=\"\"> This may be expected if your graph generating binary is newer  than this binary. Unknown attributes will be ignored. NodeDef: {{node ParallelMapDatasetV2/_15}}\n"
     ]
    },
    {
     "name": "stdout",
     "output_type": "stream",
     "text": [
      "\u001b[1m163/163\u001b[0m \u001b[32m━━━━━━━━━━━━━━━━━━━━\u001b[0m\u001b[37m\u001b[0m \u001b[1m7s\u001b[0m 42ms/step\n",
      "Adjusted 161 indices, avg confidence: 0.0000\n",
      "Changed Indices: [np.int64(537), np.int64(1083), np.int64(1087), np.int64(1109), np.int64(1325), np.int64(1337), np.int64(1355), np.int64(1404), np.int64(1417), np.int64(1445), np.int64(1512), np.int64(1537), np.int64(1579), np.int64(1648), np.int64(1678), np.int64(1700), np.int64(1745), np.int64(1761), np.int64(1765), np.int64(1769), np.int64(1781), np.int64(1837), np.int64(1843), np.int64(1903), np.int64(1939), np.int64(1955), np.int64(1957), np.int64(1985), np.int64(2001), np.int64(2044), np.int64(2072), np.int64(2085), np.int64(2095), np.int64(2135), np.int64(2189), np.int64(2197), np.int64(2201), np.int64(2209), np.int64(2256), np.int64(2279), np.int64(2291), np.int64(2317), np.int64(2332), np.int64(2333), np.int64(2342), np.int64(2370), np.int64(2386), np.int64(2409), np.int64(2439), np.int64(2463), np.int64(2486), np.int64(2496), np.int64(2500), np.int64(2524), np.int64(2532), np.int64(2537), np.int64(2539), np.int64(2546), np.int64(2558), np.int64(2593), np.int64(2667), np.int64(2693), np.int64(2730), np.int64(2741), np.int64(2811), np.int64(2832), np.int64(2848), np.int64(2878), np.int64(2888), np.int64(2896), np.int64(2938), np.int64(2955), np.int64(2996), np.int64(2998), np.int64(3003), np.int64(3024), np.int64(3064), np.int64(3156), np.int64(3184), np.int64(3190), np.int64(3237), np.int64(3270), np.int64(3290), np.int64(3306), np.int64(3311), np.int64(3319), np.int64(3326), np.int64(3346), np.int64(3381), np.int64(3397), np.int64(3398), np.int64(3430), np.int64(3454), np.int64(3456), np.int64(3492), np.int64(3494), np.int64(3520), np.int64(3550), np.int64(3588), np.int64(3645), np.int64(3705), np.int64(3714), np.int64(3759), np.int64(3772), np.int64(3785), np.int64(3792), np.int64(3797), np.int64(3830), np.int64(3831), np.int64(3840), np.int64(3871), np.int64(3886), np.int64(3915), np.int64(4005), np.int64(4045), np.int64(4084), np.int64(4109), np.int64(4115), np.int64(4117), np.int64(4185), np.int64(4198), np.int64(4204), np.int64(4216), np.int64(4256), np.int64(4271), np.int64(4275), np.int64(4293), np.int64(4305), np.int64(4313), np.int64(4409), np.int64(4429), np.int64(4445), np.int64(4473), np.int64(4554), np.int64(4560), np.int64(4580), np.int64(4587), np.int64(4627), np.int64(4628), np.int64(4667), np.int64(4702), np.int64(4704), np.int64(4723), np.int64(4728), np.int64(4753), np.int64(4762), np.int64(4769), np.int64(4915), np.int64(4919), np.int64(4927), np.int64(4928), np.int64(4935), np.int64(4973), np.int64(5001), np.int64(5024), np.int64(5030), np.int64(5060), np.int64(5124), np.int64(5141), np.int64(5142), np.int64(5187)]\n",
      "Predictions for Changed Indices: [1.14848017e-05 1.17420705e-05 1.18649805e-05 1.18711259e-05\n",
      " 1.20921404e-05 1.21496587e-05 1.21828080e-05 1.22123784e-05\n",
      " 1.23041100e-05 1.24156268e-05 1.24449780e-05 1.24815151e-05\n",
      " 1.26060686e-05 1.26141867e-05 1.27177154e-05 1.27315488e-05\n",
      " 1.27516469e-05 1.27566582e-05 1.28238789e-05 1.28343636e-05\n",
      " 1.28504316e-05 1.28649253e-05 1.28974543e-05 1.29808332e-05\n",
      " 1.31835141e-05 1.32047153e-05 1.32283103e-05 1.32287132e-05\n",
      " 1.32390369e-05 1.32406039e-05 1.32583682e-05 1.32778541e-05\n",
      " 1.32804635e-05 1.33035082e-05 1.33368658e-05 1.33658205e-05\n",
      " 1.33814574e-05 1.33978519e-05 1.34147031e-05 1.34265038e-05\n",
      " 1.34350084e-05 1.34821130e-05 1.34930715e-05 1.34997645e-05\n",
      " 1.35185746e-05 1.35444334e-05 1.35865048e-05 1.36018161e-05\n",
      " 1.36239769e-05 1.36733997e-05 1.36745857e-05 1.37399193e-05\n",
      " 1.37468151e-05 1.37501829e-05 1.38028799e-05 1.38062642e-05\n",
      " 1.38152200e-05 1.38423484e-05 1.38559644e-05 1.38833711e-05\n",
      " 1.38846945e-05 1.38927871e-05 1.39538406e-05 1.39714566e-05\n",
      " 1.40121938e-05 1.40419443e-05 1.40849161e-05 1.41078635e-05\n",
      " 1.41249611e-05 1.41525479e-05 1.41613909e-05 1.41704968e-05\n",
      " 1.41789042e-05 1.42010704e-05 1.42209665e-05 1.42364888e-05\n",
      " 1.42427489e-05 1.42584195e-05 1.42722956e-05 1.42724848e-05\n",
      " 1.43072357e-05 1.43179923e-05 1.43721109e-05 1.43732632e-05\n",
      " 1.44201358e-05 1.44365631e-05 1.44437527e-05 1.44528185e-05\n",
      " 1.44617543e-05 1.44637543e-05 1.44873866e-05 1.45016102e-05\n",
      " 1.45031872e-05 1.45235617e-05 1.45271488e-05 1.45307522e-05\n",
      " 1.45367112e-05 1.45421891e-05 1.45684926e-05 1.45956519e-05\n",
      " 1.46178563e-05 1.46206294e-05 1.46372731e-05 1.46544808e-05\n",
      " 1.46574994e-05 1.46619323e-05 1.47108831e-05 1.47140809e-05\n",
      " 1.47165938e-05 1.47265200e-05 1.47516657e-05 1.47665723e-05\n",
      " 1.48020581e-05 1.48054332e-05 1.48285635e-05 1.48533045e-05\n",
      " 1.48627560e-05 1.48856489e-05 1.49128182e-05 1.49142397e-05\n",
      " 1.49297375e-05 1.49375992e-05 1.49578964e-05 1.49712678e-05\n",
      " 1.49927018e-05 1.49946882e-05 1.49997531e-05 1.50032711e-05\n",
      " 1.50254937e-05 1.50279011e-05 1.50318419e-05 1.50481937e-05\n",
      " 1.50482228e-05 1.50581127e-05 1.50600818e-05 1.50625801e-05\n",
      " 1.50715332e-05 1.50810210e-05 1.50835112e-05 1.50934675e-05\n",
      " 1.50955984e-05 1.51076356e-05 1.51308786e-05 1.51328995e-05\n",
      " 1.51750410e-05 1.51929398e-05 1.51998083e-05 1.52008661e-05\n",
      " 1.52085668e-05 1.52224093e-05 1.52308030e-05 1.52537104e-05\n",
      " 1.52593420e-05 1.52687880e-05 1.52836765e-05 1.52848716e-05\n",
      " 1.53297024e-05 1.53329929e-05 1.53336950e-05 1.53809997e-05\n",
      " 1.53838755e-05]\n",
      "FOR CHECKING -- THE EAGLES WHICH THE MODEL GOT EVEN MORE CONFIDENT WASN'T EAGLES: [np.int64(1087), np.int64(537), np.int64(1109), np.int64(1083)]\n",
      "Total Number of Eagles the model believes are not eagles 7\n",
      "Total Number of images the model believes are not eagles 1100\n",
      "Change ratio: 0.0310\n",
      "Iteration 7...\n",
      "\u001b[1m  5/163\u001b[0m \u001b[37m━━━━━━━━━━━━━━━━━━━━\u001b[0m \u001b[1m6s\u001b[0m 42ms/step "
     ]
    },
    {
     "name": "stderr",
     "output_type": "stream",
     "text": [
      "2024-12-02 21:46:19.058811: E tensorflow/core/framework/node_def_util.cc:676] NodeDef mentions attribute use_unbounded_threadpool which is not in the op definition: Op<name=MapDataset; signature=input_dataset:variant, other_arguments: -> handle:variant; attr=f:func; attr=Targuments:list(type),min=0; attr=output_types:list(type),min=1; attr=output_shapes:list(shape),min=1; attr=use_inter_op_parallelism:bool,default=true; attr=preserve_cardinality:bool,default=false; attr=force_synchronous:bool,default=false; attr=metadata:string,default=\"\"> This may be expected if your graph generating binary is newer  than this binary. Unknown attributes will be ignored. NodeDef: {{node ParallelMapDatasetV2/_15}}\n"
     ]
    },
    {
     "name": "stdout",
     "output_type": "stream",
     "text": [
      "\u001b[1m163/163\u001b[0m \u001b[32m━━━━━━━━━━━━━━━━━━━━\u001b[0m\u001b[37m\u001b[0m \u001b[1m7s\u001b[0m 42ms/step\n",
      "Adjusted 153 indices, avg confidence: 0.0000\n",
      "Changed Indices: [np.int64(698), np.int64(1306), np.int64(1379), np.int64(1403), np.int64(1414), np.int64(1415), np.int64(1428), np.int64(1459), np.int64(1462), np.int64(1501), np.int64(1535), np.int64(1558), np.int64(1567), np.int64(1585), np.int64(1600), np.int64(1646), np.int64(1753), np.int64(1777), np.int64(1779), np.int64(1787), np.int64(1810), np.int64(1823), np.int64(1829), np.int64(1870), np.int64(1882), np.int64(1892), np.int64(1938), np.int64(1950), np.int64(1960), np.int64(1969), np.int64(2018), np.int64(2037), np.int64(2086), np.int64(2091), np.int64(2109), np.int64(2132), np.int64(2150), np.int64(2260), np.int64(2266), np.int64(2269), np.int64(2302), np.int64(2353), np.int64(2368), np.int64(2373), np.int64(2390), np.int64(2394), np.int64(2403), np.int64(2404), np.int64(2416), np.int64(2431), np.int64(2497), np.int64(2509), np.int64(2523), np.int64(2542), np.int64(2573), np.int64(2583), np.int64(2592), np.int64(2629), np.int64(2631), np.int64(2656), np.int64(2726), np.int64(2733), np.int64(2745), np.int64(2753), np.int64(2757), np.int64(2775), np.int64(2786), np.int64(2801), np.int64(2826), np.int64(2835), np.int64(2857), np.int64(2941), np.int64(2947), np.int64(2953), np.int64(3018), np.int64(3021), np.int64(3081), np.int64(3083), np.int64(3120), np.int64(3153), np.int64(3154), np.int64(3164), np.int64(3165), np.int64(3210), np.int64(3236), np.int64(3269), np.int64(3272), np.int64(3294), np.int64(3299), np.int64(3322), np.int64(3389), np.int64(3411), np.int64(3412), np.int64(3418), np.int64(3448), np.int64(3462), np.int64(3478), np.int64(3539), np.int64(3603), np.int64(3743), np.int64(3745), np.int64(3773), np.int64(3787), np.int64(3853), np.int64(3883), np.int64(3905), np.int64(3921), np.int64(3932), np.int64(3974), np.int64(4062), np.int64(4067), np.int64(4111), np.int64(4164), np.int64(4203), np.int64(4217), np.int64(4261), np.int64(4280), np.int64(4312), np.int64(4319), np.int64(4329), np.int64(4341), np.int64(4347), np.int64(4351), np.int64(4410), np.int64(4416), np.int64(4437), np.int64(4490), np.int64(4537), np.int64(4578), np.int64(4592), np.int64(4632), np.int64(4654), np.int64(4688), np.int64(4691), np.int64(4726), np.int64(4800), np.int64(4828), np.int64(4833), np.int64(4835), np.int64(4838), np.int64(4839), np.int64(4878), np.int64(4920), np.int64(4932), np.int64(4953), np.int64(5000), np.int64(5064), np.int64(5107), np.int64(5119), np.int64(5149), np.int64(5157), np.int64(5170), np.int64(5177)]\n",
      "Predictions for Changed Indices: [8.78103765e-06 1.01535898e-05 1.02010308e-05 1.02348740e-05\n",
      " 1.02764698e-05 1.02900231e-05 1.03100911e-05 1.03491702e-05\n",
      " 1.03582643e-05 1.03987559e-05 1.04417650e-05 1.04541496e-05\n",
      " 1.04558949e-05 1.05248137e-05 1.05358195e-05 1.05471390e-05\n",
      " 1.05540321e-05 1.05966928e-05 1.06081388e-05 1.07125052e-05\n",
      " 1.07174101e-05 1.07423994e-05 1.07434753e-05 1.07552223e-05\n",
      " 1.07811529e-05 1.07816668e-05 1.08004378e-05 1.08031372e-05\n",
      " 1.08214290e-05 1.08348222e-05 1.08390705e-05 1.08625918e-05\n",
      " 1.09004995e-05 1.09036391e-05 1.09098082e-05 1.09186440e-05\n",
      " 1.09208731e-05 1.09411694e-05 1.09668363e-05 1.09774564e-05\n",
      " 1.09825251e-05 1.09831844e-05 1.09986140e-05 1.10055389e-05\n",
      " 1.10254341e-05 1.10346291e-05 1.10511837e-05 1.10602305e-05\n",
      " 1.10698429e-05 1.10729798e-05 1.10743949e-05 1.10789888e-05\n",
      " 1.11173131e-05 1.11251620e-05 1.11315094e-05 1.11955142e-05\n",
      " 1.12317130e-05 1.12327198e-05 1.12393955e-05 1.12557964e-05\n",
      " 1.12705966e-05 1.12853859e-05 1.12917696e-05 1.13075785e-05\n",
      " 1.13210654e-05 1.13525057e-05 1.13557426e-05 1.13602382e-05\n",
      " 1.13652450e-05 1.13875294e-05 1.13910701e-05 1.14167469e-05\n",
      " 1.14297318e-05 1.14502973e-05 1.14604136e-05 1.14654858e-05\n",
      " 1.14895665e-05 1.14895893e-05 1.14941040e-05 1.15090870e-05\n",
      " 1.15115572e-05 1.15184203e-05 1.15573939e-05 1.15611856e-05\n",
      " 1.15751309e-05 1.15927296e-05 1.15949069e-05 1.16318324e-05\n",
      " 1.16441179e-05 1.16621986e-05 1.16642568e-05 1.16666924e-05\n",
      " 1.16964147e-05 1.16970177e-05 1.16981792e-05 1.17264817e-05\n",
      " 1.17476829e-05 1.17487361e-05 1.17587333e-05 1.17728714e-05\n",
      " 1.17875434e-05 1.17876789e-05 1.17892305e-05 1.17964164e-05\n",
      " 1.18010175e-05 1.18244270e-05 1.18324142e-05 1.18336093e-05\n",
      " 1.18768439e-05 1.18919743e-05 1.18937096e-05 1.19028791e-05\n",
      " 1.19034348e-05 1.19243741e-05 1.19285260e-05 1.19459546e-05\n",
      " 1.19612305e-05 1.19944252e-05 1.20046570e-05 1.20049881e-05\n",
      " 1.20078394e-05 1.20204659e-05 1.20222539e-05 1.20263348e-05\n",
      " 1.20382001e-05 1.20385675e-05 1.20519844e-05 1.20539044e-05\n",
      " 1.20586747e-05 1.20675913e-05 1.20765599e-05 1.20806153e-05\n",
      " 1.20841178e-05 1.21036319e-05 1.21085623e-05 1.21165085e-05\n",
      " 1.21418407e-05 1.21630374e-05 1.21825515e-05 1.22042620e-05\n",
      " 1.22145912e-05 1.22317379e-05 1.22546699e-05 1.22613328e-05\n",
      " 1.23066920e-05 1.23170239e-05 1.23469899e-05 1.23476502e-05\n",
      " 1.23536456e-05 1.23680147e-05 1.23752707e-05 1.23762029e-05\n",
      " 1.24125145e-05]\n",
      "FOR CHECKING -- THE EAGLES WHICH THE MODEL GOT EVEN MORE CONFIDENT WASN'T EAGLES: [np.int64(698)]\n",
      "Total Number of Eagles the model believes are not eagles 8\n",
      "Total Number of images the model believes are not eagles 1253\n",
      "Change ratio: 0.0294\n",
      "Iteration 8...\n",
      "\u001b[1m  5/163\u001b[0m \u001b[37m━━━━━━━━━━━━━━━━━━━━\u001b[0m \u001b[1m6s\u001b[0m 42ms/step "
     ]
    },
    {
     "name": "stderr",
     "output_type": "stream",
     "text": [
      "2024-12-02 21:46:51.889847: E tensorflow/core/framework/node_def_util.cc:676] NodeDef mentions attribute use_unbounded_threadpool which is not in the op definition: Op<name=MapDataset; signature=input_dataset:variant, other_arguments: -> handle:variant; attr=f:func; attr=Targuments:list(type),min=0; attr=output_types:list(type),min=1; attr=output_shapes:list(shape),min=1; attr=use_inter_op_parallelism:bool,default=true; attr=preserve_cardinality:bool,default=false; attr=force_synchronous:bool,default=false; attr=metadata:string,default=\"\"> This may be expected if your graph generating binary is newer  than this binary. Unknown attributes will be ignored. NodeDef: {{node ParallelMapDatasetV2/_15}}\n"
     ]
    },
    {
     "name": "stdout",
     "output_type": "stream",
     "text": [
      "\u001b[1m163/163\u001b[0m \u001b[32m━━━━━━━━━━━━━━━━━━━━\u001b[0m\u001b[37m\u001b[0m \u001b[1m7s\u001b[0m 42ms/step\n",
      "Adjusted 145 indices, avg confidence: 0.0000\n",
      "Changed Indices: [np.int64(1177), np.int64(1327), np.int64(1341), np.int64(1363), np.int64(1373), np.int64(1391), np.int64(1397), np.int64(1425), np.int64(1448), np.int64(1450), np.int64(1551), np.int64(1576), np.int64(1636), np.int64(1642), np.int64(1673), np.int64(1706), np.int64(1722), np.int64(1796), np.int64(1802), np.int64(1876), np.int64(1906), np.int64(1911), np.int64(1932), np.int64(1958), np.int64(1993), np.int64(2010), np.int64(2022), np.int64(2076), np.int64(2078), np.int64(2107), np.int64(2165), np.int64(2167), np.int64(2176), np.int64(2188), np.int64(2194), np.int64(2216), np.int64(2224), np.int64(2278), np.int64(2282), np.int64(2303), np.int64(2443), np.int64(2448), np.int64(2462), np.int64(2473), np.int64(2475), np.int64(2501), np.int64(2502), np.int64(2520), np.int64(2527), np.int64(2545), np.int64(2585), np.int64(2612), np.int64(2614), np.int64(2641), np.int64(2659), np.int64(2671), np.int64(2694), np.int64(2706), np.int64(2717), np.int64(2740), np.int64(2782), np.int64(2791), np.int64(2792), np.int64(2880), np.int64(2933), np.int64(2944), np.int64(2992), np.int64(2994), np.int64(3002), np.int64(3043), np.int64(3046), np.int64(3105), np.int64(3115), np.int64(3142), np.int64(3171), np.int64(3176), np.int64(3177), np.int64(3186), np.int64(3211), np.int64(3230), np.int64(3255), np.int64(3279), np.int64(3289), np.int64(3295), np.int64(3339), np.int64(3342), np.int64(3400), np.int64(3410), np.int64(3459), np.int64(3507), np.int64(3595), np.int64(3744), np.int64(3790), np.int64(3814), np.int64(3880), np.int64(3922), np.int64(3956), np.int64(3973), np.int64(3991), np.int64(3998), np.int64(4006), np.int64(4021), np.int64(4030), np.int64(4049), np.int64(4107), np.int64(4147), np.int64(4159), np.int64(4208), np.int64(4214), np.int64(4236), np.int64(4252), np.int64(4366), np.int64(4421), np.int64(4440), np.int64(4441), np.int64(4444), np.int64(4452), np.int64(4456), np.int64(4482), np.int64(4497), np.int64(4502), np.int64(4510), np.int64(4520), np.int64(4575), np.int64(4597), np.int64(4624), np.int64(4661), np.int64(4692), np.int64(4714), np.int64(4722), np.int64(4729), np.int64(4773), np.int64(4781), np.int64(4820), np.int64(4913), np.int64(4957), np.int64(5027), np.int64(5042), np.int64(5048), np.int64(5056), np.int64(5061), np.int64(5063), np.int64(5095), np.int64(5115), np.int64(5197)]\n",
      "Predictions for Changed Indices: [7.0286819e-06 7.1067334e-06 7.1765153e-06 7.6293318e-06 7.6298129e-06\n",
      " 7.6800970e-06 7.6839360e-06 7.6923743e-06 7.7486629e-06 7.7961759e-06\n",
      " 7.7992772e-06 7.8256144e-06 7.8350231e-06 7.8647136e-06 7.9336724e-06\n",
      " 7.9850442e-06 7.9990159e-06 8.0050668e-06 8.0146910e-06 8.0499594e-06\n",
      " 8.0753171e-06 8.0825903e-06 8.1395374e-06 8.1906965e-06 8.2022416e-06\n",
      " 8.2714305e-06 8.2800088e-06 8.2991164e-06 8.3369550e-06 8.3520026e-06\n",
      " 8.3847881e-06 8.3874265e-06 8.4057156e-06 8.4119874e-06 8.4292842e-06\n",
      " 8.4404655e-06 8.4483418e-06 8.4602098e-06 8.4802750e-06 8.4834137e-06\n",
      " 8.5587108e-06 8.5947659e-06 8.5973725e-06 8.6331293e-06 8.6521850e-06\n",
      " 8.6612908e-06 8.6784967e-06 8.6898099e-06 8.7261251e-06 8.7288627e-06\n",
      " 8.7386416e-06 8.7391172e-06 8.7617227e-06 8.7678418e-06 8.7776798e-06\n",
      " 8.7904882e-06 8.8077750e-06 8.8246325e-06 8.8263077e-06 8.8263496e-06\n",
      " 8.8278312e-06 8.8289844e-06 8.8302904e-06 8.8310308e-06 8.8363558e-06\n",
      " 8.8551169e-06 8.8946927e-06 8.9153473e-06 8.9397308e-06 8.9411633e-06\n",
      " 8.9535351e-06 8.9688319e-06 8.9747537e-06 8.9832647e-06 8.9933965e-06\n",
      " 8.9971718e-06 9.0080830e-06 9.0147869e-06 9.0148906e-06 9.0218737e-06\n",
      " 9.0439089e-06 9.0708327e-06 9.0708754e-06 9.0745443e-06 9.0790718e-06\n",
      " 9.0855856e-06 9.0935164e-06 9.0936992e-06 9.0972899e-06 9.1331476e-06\n",
      " 9.1376523e-06 9.1700567e-06 9.1719285e-06 9.1793927e-06 9.1904467e-06\n",
      " 9.1967595e-06 9.2032078e-06 9.2265136e-06 9.2343662e-06 9.2527898e-06\n",
      " 9.2636938e-06 9.2664595e-06 9.2664686e-06 9.2702257e-06 9.2718165e-06\n",
      " 9.2957926e-06 9.3001818e-06 9.3172703e-06 9.3217495e-06 9.3311692e-06\n",
      " 9.3344797e-06 9.3443750e-06 9.3521048e-06 9.3597682e-06 9.3767258e-06\n",
      " 9.4242760e-06 9.4250754e-06 9.4441593e-06 9.4703328e-06 9.4746320e-06\n",
      " 9.4840516e-06 9.4854631e-06 9.4992047e-06 9.5036903e-06 9.5149626e-06\n",
      " 9.5151263e-06 9.5242867e-06 9.5261030e-06 9.5278747e-06 9.5420146e-06\n",
      " 9.5529685e-06 9.5586274e-06 9.5607693e-06 9.5772693e-06 9.5912346e-06\n",
      " 9.5913083e-06 9.6078975e-06 9.6360309e-06 9.6526956e-06 9.6554222e-06\n",
      " 9.6623298e-06 9.6633166e-06 9.6679896e-06 9.6834729e-06 9.6857548e-06]\n",
      "FOR CHECKING -- THE EAGLES WHICH THE MODEL GOT EVEN MORE CONFIDENT WASN'T EAGLES: [np.int64(1177)]\n",
      "Total Number of Eagles the model believes are not eagles 9\n",
      "Total Number of images the model believes are not eagles 1398\n",
      "Change ratio: 0.0279\n",
      "Iteration 9...\n",
      "\u001b[1m  5/163\u001b[0m \u001b[37m━━━━━━━━━━━━━━━━━━━━\u001b[0m \u001b[1m6s\u001b[0m 43ms/step "
     ]
    },
    {
     "name": "stderr",
     "output_type": "stream",
     "text": [
      "2024-12-02 21:47:24.775223: E tensorflow/core/framework/node_def_util.cc:676] NodeDef mentions attribute use_unbounded_threadpool which is not in the op definition: Op<name=MapDataset; signature=input_dataset:variant, other_arguments: -> handle:variant; attr=f:func; attr=Targuments:list(type),min=0; attr=output_types:list(type),min=1; attr=output_shapes:list(shape),min=1; attr=use_inter_op_parallelism:bool,default=true; attr=preserve_cardinality:bool,default=false; attr=force_synchronous:bool,default=false; attr=metadata:string,default=\"\"> This may be expected if your graph generating binary is newer  than this binary. Unknown attributes will be ignored. NodeDef: {{node ParallelMapDatasetV2/_15}}\n"
     ]
    },
    {
     "name": "stdout",
     "output_type": "stream",
     "text": [
      "\u001b[1m163/163\u001b[0m \u001b[32m━━━━━━━━━━━━━━━━━━━━\u001b[0m\u001b[37m\u001b[0m \u001b[1m7s\u001b[0m 42ms/step\n",
      "Adjusted 138 indices, avg confidence: 0.0000\n",
      "Changed Indices: [np.int64(298), np.int64(684), np.int64(1312), np.int64(1348), np.int64(1380), np.int64(1412), np.int64(1426), np.int64(1455), np.int64(1472), np.int64(1499), np.int64(1519), np.int64(1522), np.int64(1602), np.int64(1618), np.int64(1626), np.int64(1691), np.int64(1702), np.int64(1712), np.int64(1729), np.int64(1791), np.int64(1827), np.int64(1838), np.int64(1877), np.int64(1887), np.int64(1902), np.int64(1910), np.int64(1973), np.int64(1990), np.int64(2067), np.int64(2163), np.int64(2268), np.int64(2276), np.int64(2288), np.int64(2295), np.int64(2319), np.int64(2355), np.int64(2385), np.int64(2387), np.int64(2401), np.int64(2413), np.int64(2456), np.int64(2562), np.int64(2568), np.int64(2618), np.int64(2669), np.int64(2678), np.int64(2682), np.int64(2714), np.int64(2721), np.int64(2768), np.int64(2788), np.int64(2802), np.int64(2820), np.int64(2858), np.int64(2870), np.int64(2914), np.int64(2920), np.int64(2957), np.int64(2980), np.int64(3070), np.int64(3084), np.int64(3092), np.int64(3110), np.int64(3125), np.int64(3138), np.int64(3175), np.int64(3183), np.int64(3334), np.int64(3336), np.int64(3372), np.int64(3374), np.int64(3395), np.int64(3419), np.int64(3446), np.int64(3470), np.int64(3474), np.int64(3484), np.int64(3551), np.int64(3558), np.int64(3563), np.int64(3615), np.int64(3626), np.int64(3628), np.int64(3644), np.int64(3650), np.int64(3652), np.int64(3677), np.int64(3686), np.int64(3718), np.int64(3732), np.int64(3755), np.int64(3800), np.int64(3829), np.int64(3884), np.int64(3930), np.int64(3946), np.int64(3963), np.int64(4012), np.int64(4040), np.int64(4057), np.int64(4103), np.int64(4143), np.int64(4188), np.int64(4237), np.int64(4255), np.int64(4291), np.int64(4292), np.int64(4316), np.int64(4331), np.int64(4386), np.int64(4390), np.int64(4418), np.int64(4432), np.int64(4462), np.int64(4563), np.int64(4593), np.int64(4625), np.int64(4638), np.int64(4673), np.int64(4677), np.int64(4699), np.int64(4700), np.int64(4732), np.int64(4777), np.int64(4815), np.int64(4850), np.int64(4910), np.int64(4911), np.int64(4938), np.int64(4940), np.int64(4968), np.int64(4978), np.int64(5017), np.int64(5071), np.int64(5072), np.int64(5078), np.int64(5080), np.int64(5193)]\n",
      "Predictions for Changed Indices: [1.13968845e-05 1.15183320e-05 1.15353496e-05 1.15650673e-05\n",
      " 1.17540021e-05 1.17796881e-05 1.17957534e-05 1.18017952e-05\n",
      " 1.19118722e-05 1.19482802e-05 1.20036721e-05 1.21586772e-05\n",
      " 1.21757112e-05 1.21868397e-05 1.21917928e-05 1.22090933e-05\n",
      " 1.22416805e-05 1.22450674e-05 1.22800093e-05 1.22870961e-05\n",
      " 1.23091568e-05 1.23094378e-05 1.23215350e-05 1.23373493e-05\n",
      " 1.23492864e-05 1.23496166e-05 1.23506998e-05 1.23518657e-05\n",
      " 1.23862992e-05 1.23998316e-05 1.24103490e-05 1.24189437e-05\n",
      " 1.24295475e-05 1.24363414e-05 1.24428070e-05 1.24870521e-05\n",
      " 1.25090064e-05 1.25125980e-05 1.25145789e-05 1.25151882e-05\n",
      " 1.25262204e-05 1.25543247e-05 1.25650204e-05 1.25665429e-05\n",
      " 1.25900779e-05 1.25985334e-05 1.26570849e-05 1.26606583e-05\n",
      " 1.26664672e-05 1.26919795e-05 1.26955510e-05 1.27122712e-05\n",
      " 1.27393578e-05 1.27426874e-05 1.27489966e-05 1.27970989e-05\n",
      " 1.27972708e-05 1.27979047e-05 1.27998819e-05 1.28012134e-05\n",
      " 1.28116790e-05 1.28135980e-05 1.28198435e-05 1.28365791e-05\n",
      " 1.28402044e-05 1.28404972e-05 1.28468910e-05 1.28593201e-05\n",
      " 1.28607307e-05 1.28747815e-05 1.28780721e-05 1.28841166e-05\n",
      " 1.28862048e-05 1.28896590e-05 1.29069285e-05 1.29317059e-05\n",
      " 1.29433292e-05 1.29652199e-05 1.29666287e-05 1.29718483e-05\n",
      " 1.29812779e-05 1.30043254e-05 1.30137669e-05 1.30343587e-05\n",
      " 1.30430517e-05 1.30510898e-05 1.30534181e-05 1.30657099e-05\n",
      " 1.30974468e-05 1.31014194e-05 1.31082179e-05 1.31292109e-05\n",
      " 1.31448578e-05 1.31452980e-05 1.31694396e-05 1.31824563e-05\n",
      " 1.31889965e-05 1.31903680e-05 1.32108880e-05 1.32203013e-05\n",
      " 1.32260902e-05 1.32355663e-05 1.32578507e-05 1.32624027e-05\n",
      " 1.32883306e-05 1.32970272e-05 1.33042704e-05 1.33163157e-05\n",
      " 1.33484336e-05 1.33836393e-05 1.33848635e-05 1.33876983e-05\n",
      " 1.33926151e-05 1.34433531e-05 1.34475831e-05 1.34487373e-05\n",
      " 1.34646898e-05 1.34651900e-05 1.34855454e-05 1.34892380e-05\n",
      " 1.34950660e-05 1.35300661e-05 1.35336149e-05 1.35352784e-05\n",
      " 1.35471983e-05 1.35476903e-05 1.35606551e-05 1.35829814e-05\n",
      " 1.35901719e-05 1.36177541e-05 1.36313984e-05 1.36376129e-05\n",
      " 1.36525250e-05 1.36750423e-05 1.36772860e-05 1.36851922e-05\n",
      " 1.36953240e-05 1.37060115e-05]\n",
      "FOR CHECKING -- THE EAGLES WHICH THE MODEL GOT EVEN MORE CONFIDENT WASN'T EAGLES: [np.int64(684), np.int64(298)]\n",
      "Total Number of Eagles the model believes are not eagles 11\n",
      "Total Number of images the model believes are not eagles 1536\n",
      "Change ratio: 0.0265\n",
      "Iteration 10...\n",
      "\u001b[1m  5/163\u001b[0m \u001b[37m━━━━━━━━━━━━━━━━━━━━\u001b[0m \u001b[1m6s\u001b[0m 42ms/step "
     ]
    },
    {
     "name": "stderr",
     "output_type": "stream",
     "text": [
      "2024-12-02 21:47:57.458237: E tensorflow/core/framework/node_def_util.cc:676] NodeDef mentions attribute use_unbounded_threadpool which is not in the op definition: Op<name=MapDataset; signature=input_dataset:variant, other_arguments: -> handle:variant; attr=f:func; attr=Targuments:list(type),min=0; attr=output_types:list(type),min=1; attr=output_shapes:list(shape),min=1; attr=use_inter_op_parallelism:bool,default=true; attr=preserve_cardinality:bool,default=false; attr=force_synchronous:bool,default=false; attr=metadata:string,default=\"\"> This may be expected if your graph generating binary is newer  than this binary. Unknown attributes will be ignored. NodeDef: {{node ParallelMapDatasetV2/_15}}\n"
     ]
    },
    {
     "name": "stdout",
     "output_type": "stream",
     "text": [
      "\u001b[1m163/163\u001b[0m \u001b[32m━━━━━━━━━━━━━━━━━━━━\u001b[0m\u001b[37m\u001b[0m \u001b[1m7s\u001b[0m 42ms/step\n",
      "Adjusted 131 indices, avg confidence: 0.0000\n",
      "Changed Indices: [np.int64(36), np.int64(91), np.int64(918), np.int64(1300), np.int64(1377), np.int64(1408), np.int64(1437), np.int64(1559), np.int64(1586), np.int64(1616), np.int64(1617), np.int64(1693), np.int64(1704), np.int64(1727), np.int64(1782), np.int64(1799), np.int64(1836), np.int64(1844), np.int64(1890), np.int64(1937), np.int64(1949), np.int64(1952), np.int64(2056), np.int64(2116), np.int64(2124), np.int64(2136), np.int64(2170), np.int64(2172), np.int64(2179), np.int64(2206), np.int64(2227), np.int64(2264), np.int64(2287), np.int64(2300), np.int64(2312), np.int64(2351), np.int64(2361), np.int64(2378), np.int64(2407), np.int64(2424), np.int64(2434), np.int64(2504), np.int64(2510), np.int64(2571), np.int64(2603), np.int64(2633), np.int64(2662), np.int64(2674), np.int64(2676), np.int64(2677), np.int64(2699), np.int64(2708), np.int64(2711), np.int64(2719), np.int64(2727), np.int64(2738), np.int64(2751), np.int64(2752), np.int64(2764), np.int64(2765), np.int64(2855), np.int64(2865), np.int64(2882), np.int64(2956), np.int64(2962), np.int64(2978), np.int64(3056), np.int64(3113), np.int64(3144), np.int64(3209), np.int64(3216), np.int64(3375), np.int64(3401), np.int64(3402), np.int64(3404), np.int64(3513), np.int64(3523), np.int64(3562), np.int64(3594), np.int64(3599), np.int64(3697), np.int64(3711), np.int64(3735), np.int64(3779), np.int64(3793), np.int64(3825), np.int64(3838), np.int64(3890), np.int64(3939), np.int64(3944), np.int64(4022), np.int64(4075), np.int64(4101), np.int64(4235), np.int64(4263), np.int64(4268), np.int64(4357), np.int64(4388), np.int64(4425), np.int64(4427), np.int64(4449), np.int64(4504), np.int64(4519), np.int64(4538), np.int64(4557), np.int64(4566), np.int64(4582), np.int64(4615), np.int64(4621), np.int64(4711), np.int64(4713), np.int64(4719), np.int64(4768), np.int64(4795), np.int64(4832), np.int64(4859), np.int64(4868), np.int64(4871), np.int64(4882), np.int64(4893), np.int64(4925), np.int64(4997), np.int64(5033), np.int64(5053), np.int64(5057), np.int64(5075), np.int64(5085), np.int64(5096), np.int64(5104), np.int64(5118), np.int64(5125)]\n",
      "Predictions for Changed Indices: [9.90501940e-06 1.11469117e-05 1.24427370e-05 1.29364171e-05\n",
      " 1.30190801e-05 1.33531057e-05 1.34752618e-05 1.36843837e-05\n",
      " 1.39387985e-05 1.41674427e-05 1.41906321e-05 1.41915798e-05\n",
      " 1.42268937e-05 1.42596155e-05 1.42608260e-05 1.43096240e-05\n",
      " 1.44090691e-05 1.44584856e-05 1.45116410e-05 1.46015964e-05\n",
      " 1.46166421e-05 1.48119998e-05 1.48211002e-05 1.48961017e-05\n",
      " 1.50337064e-05 1.51649283e-05 1.52169941e-05 1.52677549e-05\n",
      " 1.52790435e-05 1.52917091e-05 1.53251567e-05 1.53735946e-05\n",
      " 1.53763522e-05 1.54125391e-05 1.55189246e-05 1.56381921e-05\n",
      " 1.57048780e-05 1.57079048e-05 1.57913219e-05 1.58212897e-05\n",
      " 1.58214407e-05 1.58417934e-05 1.58448765e-05 1.58947732e-05\n",
      " 1.59012779e-05 1.59091342e-05 1.59216434e-05 1.59235551e-05\n",
      " 1.59285664e-05 1.59485699e-05 1.59572410e-05 1.59756964e-05\n",
      " 1.60003055e-05 1.60298132e-05 1.60325035e-05 1.60655018e-05\n",
      " 1.60892814e-05 1.61009011e-05 1.61262724e-05 1.61263488e-05\n",
      " 1.61876105e-05 1.62361739e-05 1.62427405e-05 1.62526721e-05\n",
      " 1.62535871e-05 1.62802226e-05 1.62888427e-05 1.62978085e-05\n",
      " 1.63038239e-05 1.63090008e-05 1.63126733e-05 1.63128898e-05\n",
      " 1.63206714e-05 1.63467466e-05 1.63878904e-05 1.64133853e-05\n",
      " 1.64362555e-05 1.64636749e-05 1.64756930e-05 1.64764460e-05\n",
      " 1.65022193e-05 1.65194451e-05 1.65440870e-05 1.65449073e-05\n",
      " 1.65631409e-05 1.66169193e-05 1.66239715e-05 1.66529935e-05\n",
      " 1.66626978e-05 1.66747486e-05 1.67263825e-05 1.67390044e-05\n",
      " 1.67483613e-05 1.67537128e-05 1.67613198e-05 1.67634626e-05\n",
      " 1.67781764e-05 1.68105926e-05 1.68312054e-05 1.68316092e-05\n",
      " 1.68423503e-05 1.68499810e-05 1.68621664e-05 1.68878178e-05\n",
      " 1.69042687e-05 1.69270643e-05 1.69273535e-05 1.69297437e-05\n",
      " 1.69331670e-05 1.69339892e-05 1.69590076e-05 1.69703326e-05\n",
      " 1.69872856e-05 1.69908180e-05 1.69937830e-05 1.70004132e-05\n",
      " 1.70169587e-05 1.70174444e-05 1.70242765e-05 1.70507446e-05\n",
      " 1.70598869e-05 1.70785406e-05 1.71281918e-05 1.71350839e-05\n",
      " 1.71656211e-05 1.71820830e-05 1.71909651e-05 1.72017244e-05\n",
      " 1.72261680e-05 1.72375221e-05 1.72441323e-05]\n",
      "FOR CHECKING -- THE EAGLES WHICH THE MODEL GOT EVEN MORE CONFIDENT WASN'T EAGLES: [np.int64(918), np.int64(91), np.int64(36)]\n",
      "Total Number of Eagles the model believes are not eagles 14\n",
      "Total Number of images the model believes are not eagles 1667\n",
      "Change ratio: 0.0252\n"
     ]
    }
   ],
   "source": [
    "n_percentage = 5  # % of least confident eagle predictions to adjust\n",
    "max_iterations = 10 # has biggest numbers from above output  \n",
    "convergence_tolerance = 0  # stop if change ratio is this\n",
    "high_conf_threshold = 0.8  # threshold for confident eagle flips\n",
    "confidence_init = confidence_init = np.array([.35 if x<.5 else 1 for x in label_train]).reshape(5200,1)\n",
    "\n",
    "\n",
    "\n",
    "num_incorrectly_modified = 0\n",
    "num_modified = 0\n",
    "for iteration in range(max_iterations):\n",
    "    print(f\"Iteration {iteration + 1}...\")\n",
    "\n",
    "    # step 1: train model\n",
    "    history = model.fit(\n",
    "        [images_train, confidence_init],\n",
    "        label_train,\n",
    "        batch_size=100, # ok this might seem crazy but im wondering if w batch=32 it wasn't encountering enough wrong labels \n",
    "        epochs=1,\n",
    "        # validation_data=([images_val, np.ones((len(images_val), 1))], label_val), # this was a line from chat, replaced w ours instead below\n",
    "        validation_data=([images_val, label_val.reshape(-1,1)], label_val),\n",
    "        callbacks=callbacks,\n",
    "        shuffle = True,\n",
    "        verbose=0\n",
    "    )\n",
    "\n",
    "    # step 2: predict probabilities\n",
    "    preds = model.predict([images_train, confidence_init]).flatten()\n",
    "\n",
    "    # step 3: identify least confident eagle predictions\n",
    "    low_confidence_indices = np.where((label_train == 0) & (preds < 0.5) & (preds != 0))[0] # grabbing indices where label_train is 0 (noneagle), focusing in on the misclassified\n",
    "    filtered_indices = low_confidence_indices[confidence_init.flatten()[low_confidence_indices]!= 0]\n",
    "    sorted_indices = filtered_indices[np.argsort(preds[filtered_indices])] # sorts the preds low to high\n",
    "    to_adjust = sorted_indices[:int(len(sorted_indices) * (n_percentage / 100))] # only grabbing 5% rn of the bottom\n",
    "    \n",
    "\n",
    "    # step 4: update confidence for least confident predictions\n",
    "    if len(to_adjust) > 0:\n",
    "        confidence_init[to_adjust] = 0  # reduce confidence to 0 for the indices we picked by %\n",
    "        avg_confidence = np.mean(preds[to_adjust])\n",
    "        print(f\"Adjusted {len(to_adjust)} indices, avg confidence: {avg_confidence:.4f}\")\n",
    "    else:\n",
    "        print(\"No indices to adjust in this iteration.\")\n",
    "        \n",
    "    print(f\"Changed Indices: {sorted(to_adjust)}\")\n",
    "    print(f\"Predictions for Changed Indices: {preds[to_adjust]}\")\n",
    "    wrongly_switched = [x for x in changed_indices if x in to_adjust]\n",
    "    print(\"FOR CHECKING -- THE EAGLES WHICH THE MODEL GOT EVEN MORE CONFIDENT WASN'T EAGLES:\", wrongly_switched)\n",
    "    num_incorrectly_modified += len(wrongly_switched)\n",
    "    num_modified += len(to_adjust)\n",
    "    print(\"Total Number of Eagles the model believes are not eagles\", num_incorrectly_modified)\n",
    "    print(\"Total Number of images the model believes are not eagles\", num_modified)\n",
    "\n",
    "\n",
    "    # step 5: check for convergence\n",
    "    if len(to_adjust) > 0:\n",
    "            change_ratio = len(to_adjust) / len(label_train)  \n",
    "    else:\n",
    "            change_ratio=0\n",
    "    print(f\"Change ratio: {change_ratio:.4f}\")\n",
    "\n",
    "    if change_ratio < convergence_tolerance:\n",
    "        print(\"Convergence reached.\")\n",
    "        break\n"
   ]
  },
  {
   "cell_type": "code",
   "execution_count": 76,
   "id": "e1a1fa8d-aaea-47b7-ae02-3bd4e93bd255",
   "metadata": {},
   "outputs": [
    {
     "name": "stdout",
     "output_type": "stream",
     "text": [
      "Final eagle count: 1040\n",
      "Final noneagle count: 4160\n"
     ]
    }
   ],
   "source": [
    "# step 6: final flipping of high-confidence predictions to eagles\n",
    "# high_confidence_indices = np.where((label_train == 0) & (preds > .5))[0]\n",
    "# for idx in high_confidence_indices:\n",
    "#     label_train[idx] = 1  # flip to eagle\n",
    "#     confidence_init[idx] = 1  # restore confidence to 1 for flipped labels\n",
    "\n",
    "print(f\"Final eagle count: {np.sum(label_train == 1)}\")\n",
    "print(f\"Final noneagle count: {np.sum(label_train == 0)}\")"
   ]
  },
  {
   "cell_type": "code",
   "execution_count": 44,
   "id": "deb04844-8b14-4c62-836d-b47fadb743f2",
   "metadata": {},
   "outputs": [
    {
     "name": "stdout",
     "output_type": "stream",
     "text": [
      "How many actual eagles in top 10% is: 101\n",
      "How many total are in the top 10% is: 416\n"
     ]
    }
   ],
   "source": [
    " # only grabbing 5% rn of the bottom\n",
    "def top_n_percent_indices(predictions, n_percent):\n",
    "\n",
    "    target_indices = np.where(label_train == 0)[0]\n",
    "    filtered_preds = predictions[target_indices]\n",
    "    \n",
    "    # Calculate the number of top elements to select\n",
    "    num_top_elements = int(np.ceil(len(filtered_preds) * n_percent / 100))\n",
    "    \n",
    "    # # Get the indices of the sorted values (descending order)\n",
    "    sorted_indices = np.argsort(filtered_preds)[::-1]\n",
    "    \n",
    "    # # Select the top n_percent indices\n",
    "    top_indices = sorted_indices[:num_top_elements]\n",
    "\n",
    "    top_original_indices = target_indices[top_indices]\n",
    "    \n",
    "    return top_original_indices\n",
    "n_percent = 10\n",
    "high_confidence_indices = top_n_percent_indices(preds,n_percent)\n",
    "high_confidence_indices\n",
    "actually_eagles = [x for x in high_confidence_indices if x in changed_indices]\n",
    "# print(\"The least confident not-eagles that are actually eagles:\", actually_eagles)\n",
    "print(f\"How many actual eagles in top {n_percent}% is: {len(actually_eagles)}\")\n",
    "print(f\"How many total are in the top {n_percent}% is: {len(high_confidence_indices)}\")"
   ]
  },
  {
   "cell_type": "markdown",
   "id": "8b058189-0d36-42ac-b896-628b8cd73b2d",
   "metadata": {},
   "source": [
    "The best I can seem to do is roughly approach a ratio of 25% being in a top n%\n",
    "    - If I have to guess why this is, it would be that as you do more runs or more epochs or take a larger/smaller percent of the top or bottom, the total number of eagles that get the \"0\" confidence stays"
   ]
  },
  {
   "cell_type": "code",
   "execution_count": 72,
   "id": "2f91b3fe-60a7-41e5-b00a-1b19fc9bdfd8",
   "metadata": {},
   "outputs": [
    {
     "name": "stdout",
     "output_type": "stream",
     "text": [
      "Iteration 1...\n",
      "\u001b[1m163/163\u001b[0m \u001b[32m━━━━━━━━━━━━━━━━━━━━\u001b[0m\u001b[37m\u001b[0m \u001b[1m7s\u001b[0m 42ms/step\n",
      "Adjusted 208 indices, avg confidence: 0.0170\n",
      "Change ratio: 0.0400\n",
      "Iteration 2...\n",
      "\u001b[1m163/163\u001b[0m \u001b[32m━━━━━━━━━━━━━━━━━━━━\u001b[0m\u001b[37m\u001b[0m \u001b[1m7s\u001b[0m 42ms/step\n",
      "Adjusted 208 indices, avg confidence: 0.0012\n",
      "Change ratio: 0.0400\n",
      "Iteration 3...\n",
      "\u001b[1m163/163\u001b[0m \u001b[32m━━━━━━━━━━━━━━━━━━━━\u001b[0m\u001b[37m\u001b[0m \u001b[1m7s\u001b[0m 42ms/step\n",
      "Adjusted 208 indices, avg confidence: 0.0001\n",
      "Change ratio: 0.0400\n",
      "\u001b[1m163/163\u001b[0m \u001b[32m━━━━━━━━━━━━━━━━━━━━\u001b[0m\u001b[37m\u001b[0m \u001b[1m7s\u001b[0m 42ms/step\n",
      "Retraining model with updated labels...\n",
      "Epoch 1/3\n",
      "\u001b[1m163/163\u001b[0m \u001b[32m━━━━━━━━━━━━━━━━━━━━\u001b[0m\u001b[37m\u001b[0m \u001b[1m24s\u001b[0m 140ms/step - accuracy: 0.0000e+00 - loss: 0.0130 - val_accuracy: 0.2500 - val_loss: 4.2549\n",
      "Epoch 2/3\n",
      "\u001b[1m163/163\u001b[0m \u001b[32m━━━━━━━━━━━━━━━━━━━━\u001b[0m\u001b[37m\u001b[0m \u001b[1m23s\u001b[0m 139ms/step - accuracy: 0.0000e+00 - loss: 0.0127 - val_accuracy: 0.2500 - val_loss: 4.1080\n",
      "Epoch 3/3\n",
      "\u001b[1m163/163\u001b[0m \u001b[32m━━━━━━━━━━━━━━━━━━━━\u001b[0m\u001b[37m\u001b[0m \u001b[1m23s\u001b[0m 139ms/step - accuracy: 0.0000e+00 - loss: 0.0127 - val_accuracy: 0.2500 - val_loss: 4.2142\n",
      "Final eagle count: 1040\n",
      "Final noneagle count: 4160\n"
     ]
    }
   ],
   "source": [
    "for iteration in range(max_iterations):\n",
    "    print(f\"Iteration {iteration + 1}...\")\n",
    "\n",
    "    # Step 1: Train model\n",
    "    history = model.fit(\n",
    "        [images_train, confidence_init],\n",
    "        label_train,\n",
    "        batch_size=32,\n",
    "        epochs=1,\n",
    "        validation_data=([images_val, np.ones((len(images_val), 1))], label_val),\n",
    "        callbacks=callbacks,\n",
    "        verbose=0\n",
    "    )\n",
    "\n",
    "    # Step 2: Predict probabilities\n",
    "    preds = model.predict([images_train, confidence_init]).flatten()\n",
    "\n",
    "    # Step 3: Identify least confident predictions\n",
    "    low_confidence_indices = np.where((label_train == 0) & (preds < 0.5) & (preds != 0))[0]\n",
    "    sorted_indices = low_confidence_indices[np.argsort(preds[low_confidence_indices])]\n",
    "    to_adjust = sorted_indices[:int(len(sorted_indices) * (n_percentage / 100))]\n",
    "\n",
    "    # Step 4: Update confidence for least confident predictions\n",
    "    if len(to_adjust) > 0:\n",
    "        confidence_init[to_adjust] *= 0.5  # Reduce confidence gradually\n",
    "        avg_confidence = np.mean(preds[to_adjust])\n",
    "        print(f\"Adjusted {len(to_adjust)} indices, avg confidence: {avg_confidence:.4f}\")\n",
    "    else:\n",
    "        print(\"No indices to adjust in this iteration.\")\n",
    "\n",
    "    # Step 5: Check for convergence\n",
    "    change_ratio = len(to_adjust) / len(label_train) if len(to_adjust) > 0 else 0\n",
    "    print(f\"Change ratio: {change_ratio:.4f}\")\n",
    "    if change_ratio < convergence_tolerance:\n",
    "        print(\"Convergence reached.\")\n",
    "        break\n",
    "\n",
    "# Step 6: Final flipping of high-confidence predictions to eagles\n",
    "preds = model.predict([images_train, confidence_init]).flatten()\n",
    "high_confidence_indices = np.where((label_train == 0) & (preds > high_conf_threshold))[0]\n",
    "\n",
    "if len(high_confidence_indices) > 0:\n",
    "    label_train[high_confidence_indices] = 1\n",
    "    confidence_init[high_confidence_indices] = 1\n",
    "    print(f\"Flipped {len(high_confidence_indices)} labels to eagle.\")\n",
    "\n",
    "# Retrain on fully updated dataset\n",
    "print(\"Retraining model with updated labels...\")\n",
    "model.fit(\n",
    "    [images_train, confidence_init],\n",
    "    preds,\n",
    "    batch_size=32,\n",
    "    epochs=3,  # Add more epochs for final retraining\n",
    "    validation_data=([images_val, np.ones((len(images_val), 1))], label_val),\n",
    "    verbose=1\n",
    ")\n",
    "\n",
    "# Final counts\n",
    "print(f\"Final eagle count: {np.sum(label_train == 1)}\")\n",
    "print(f\"Final noneagle count: {np.sum(label_train == 0)}\")\n"
   ]
  },
  {
   "cell_type": "code",
   "execution_count": null,
   "id": "ac66ec8e-eabb-433a-9645-8754107a6d93",
   "metadata": {},
   "outputs": [],
   "source": []
  },
  {
   "cell_type": "markdown",
   "id": "4b988f3c-a1b6-4798-8f4a-bbc6878d2172",
   "metadata": {
    "jp-MarkdownHeadingCollapsed": true
   },
   "source": [
    "### just to test distributions / debug"
   ]
  },
  {
   "cell_type": "code",
   "execution_count": null,
   "id": "38406e69-705d-44df-837e-d79871e2f2fc",
   "metadata": {},
   "outputs": [],
   "source": []
  },
  {
   "cell_type": "code",
   "execution_count": 34,
   "id": "7f0cea15-01b9-416e-9a34-e2a4e47b57cd",
   "metadata": {},
   "outputs": [
    {
     "name": "stdout",
     "output_type": "stream",
     "text": [
      "Correctly labeled eagles: 1040/1040\n",
      "Correctly labeled noneagles: 4160/4160\n"
     ]
    }
   ],
   "source": [
    "# Compare relabeled classes to original ground truth\n",
    "original_labels = new_labels  \n",
    "correct_eagles = np.sum((label_train == 1) & (original_labels == 1))  # True eagles as eagles\n",
    "correct_noneagles = np.sum((label_train == 0) & (original_labels == 0))  # True noneagles as noneagles\n",
    "\n",
    "print(f\"Correctly labeled eagles: {correct_eagles}/{np.sum(original_labels == 1)}\")\n",
    "print(f\"Correctly labeled noneagles: {correct_noneagles}/{np.sum(original_labels == 0)}\")\n"
   ]
  },
  {
   "cell_type": "code",
   "execution_count": 70,
   "id": "8b2ea307-66f6-4820-af0f-e7387923936e",
   "metadata": {},
   "outputs": [
    {
     "name": "stdout",
     "output_type": "stream",
     "text": [
      "Mean confidence for eagles: 0.0297\n",
      "Mean confidence for noneagles: 0.0079\n"
     ]
    }
   ],
   "source": [
    "eagle_confidence = preds[label_train == 1]\n",
    "noneagle_confidence = preds[label_train == 0]\n",
    "\n",
    "print(f\"Mean confidence for eagles: {eagle_confidence.mean():.4f}\")\n",
    "print(f\"Mean confidence for noneagles: {noneagle_confidence.mean():.4f}\")\n"
   ]
  },
  {
   "cell_type": "code",
   "execution_count": 34,
   "id": "091e90f8-5dd7-45d0-904b-b4f1e03d1997",
   "metadata": {},
   "outputs": [
    {
     "name": "stdout",
     "output_type": "stream",
     "text": [
      "T-statistic: 285.7584, P-value: 0.0000e+00\n"
     ]
    }
   ],
   "source": [
    "from scipy.stats import ttest_ind\n",
    "\n",
    "t_stat, p_val = ttest_ind(eagle_confidence, noneagle_confidence, equal_var=False)\n",
    "print(f\"T-statistic: {t_stat:.4f}, P-value: {p_val:.4e}\")\n"
   ]
  },
  {
   "cell_type": "code",
   "execution_count": 71,
   "id": "92a903ff-2813-4184-bbc5-479a20d2dbe0",
   "metadata": {},
   "outputs": [
    {
     "data": {
      "image/png": "[encoded data removed]",
      "text/plain": [
       "<Figure size 640x480 with 1 Axes>"
      ]
     },
     "metadata": {},
     "output_type": "display_data"
    }
   ],
   "source": [
    "import matplotlib.pyplot as plt\n",
    "\n",
    "plt.hist(eagle_confidence, bins=20, alpha=0.7, label='Eagles (1)')\n",
    "plt.hist(noneagle_confidence, bins=20, alpha=0.7, label='Noneagles (0)')\n",
    "plt.xlabel('Confidence Score')\n",
    "plt.ylabel('Frequency')\n",
    "plt.title('Confidence Distribution')\n",
    "plt.legend()\n",
    "plt.show()\n"
   ]
  },
  {
   "cell_type": "code",
   "execution_count": 36,
   "id": "8fe5eac0-43f7-49ec-a853-c79292cd062d",
   "metadata": {},
   "outputs": [
    {
     "name": "stdout",
     "output_type": "stream",
     "text": [
      "Sample 0: Label=0, Confidence=0.4747\n",
      "Sample 1: Label=1, Confidence=0.5125\n",
      "Sample 2: Label=1, Confidence=0.5125\n",
      "Sample 3: Label=1, Confidence=0.5125\n",
      "Sample 4: Label=1, Confidence=0.5125\n",
      "Sample 5: Label=1, Confidence=0.5125\n",
      "Sample 6: Label=1, Confidence=0.5125\n",
      "Sample 7: Label=0, Confidence=0.4747\n",
      "Sample 8: Label=1, Confidence=0.5125\n",
      "Sample 9: Label=1, Confidence=0.5125\n"
     ]
    }
   ],
   "source": [
    "# Get indices of ambiguous samples\n",
    "ambiguous_indices = np.where((preds > 0.4) & (preds < 0.6))[0]\n",
    "\n",
    "# Inspect some ambiguous samples (requires image visualization logic)\n",
    "for idx in ambiguous_indices[:10]:  # First 10 ambiguous cases\n",
    "    print(f\"Sample {idx}: Label={label_train[idx]}, Confidence={preds[idx]:.4f}\")\n",
    "    # Add your image visualization code here if needed\n"
   ]
  },
  {
   "cell_type": "code",
   "execution_count": null,
   "id": "372577b8-e20f-4931-9411-7cdd8356c626",
   "metadata": {},
   "outputs": [],
   "source": []
  }
 ],
 "metadata": {
  "kernelspec": {
   "display_name": "Python 3 (ipykernel)",
   "language": "python",
   "name": "python3"
  },
  "language_info": {
   "codemirror_mode": {
    "name": "ipython",
    "version": 3
   },
   "file_extension": ".py",
   "mimetype": "text/x-python",
   "name": "python",
   "nbconvert_exporter": "python",
   "pygments_lexer": "ipython3",
   "version": "3.10.15"
  }
 },
 "nbformat": 4,
 "nbformat_minor": 5
}
