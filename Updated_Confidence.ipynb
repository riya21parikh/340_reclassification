{
 "cells": [
  {
   "cell_type": "markdown",
   "id": "2e964389-ca42-431e-908a-616380202d6b",
   "metadata": {},
   "source": [
    "# This makes sense to use using KMEANS or some other external-based-confidence score, but I didn't realize till I figured out the multiple inputs stuff, gonna leave it but actually work on the confidence-relabeling first"
   ]
  },
  {
   "cell_type": "code",
   "execution_count": 61,
   "id": "b497b9ed-b6ac-44a6-9aff-456e09a9c144",
   "metadata": {},
   "outputs": [],
   "source": [
    "import os\n",
    "from PIL import Image\n",
    "import numpy as np\n",
    "import random\n",
    "import shutil"
   ]
  },
  {
   "cell_type": "code",
   "execution_count": 62,
   "id": "e95280c4-13b0-45cc-a013-6ca2f30b0ae0",
   "metadata": {},
   "outputs": [],
   "source": [
    "# define directories for train and validation sets\n",
    "root_dir = '/projectnb/ds340/projects/Samuolis_Parikh_Image_Data/'\n",
    "\n",
    "train_dir = root_dir +\"resized_images/train\"\n",
    "validation_dir = root_dir + \"resized_images/validation\"\n",
    "\n",
    "train_target = train_dir +\"/baldeagle\"\n",
    "train_nontarget = train_dir +\"/nonbaldeagle\"\n",
    "\n",
    "val_target = validation_dir +\"/baldeagle\"\n",
    "val_nontarget = validation_dir +\"/nonbaldeagle\""
   ]
  },
  {
   "cell_type": "code",
   "execution_count": 63,
   "id": "a74d33b9-6ff2-4aac-a4b7-9576a8d52d59",
   "metadata": {},
   "outputs": [],
   "source": [
    "def load_images_from_folders(folder1, folder2, img_size = (224,224)):\n",
    "    images = []\n",
    "    labels = []\n",
    "    \n",
    "    # Load images from the first folder\n",
    "    for filename in os.listdir(folder1):\n",
    "        img_path = os.path.join(folder1, filename)\n",
    "        try:\n",
    "            with Image.open(img_path) as img:\n",
    "                img = img.convert('RGB')\n",
    "                img = img.resize(img_size)\n",
    "                images.append(np.array(img))  # Convert image to array\n",
    "                labels.append(1)  # Class label for folder1\n",
    "        except Exception as e:\n",
    "            print(f\"Could not load image {filename} from {folder1}: {e}\")\n",
    "\n",
    "    # Load images from the second folder\n",
    "    for filename in os.listdir(folder2):\n",
    "        img_path = os.path.join(folder2, filename)\n",
    "        try:\n",
    "            with Image.open(img_path) as img:\n",
    "                img = img.convert('RGB')\n",
    "                img = img.resize(img_size)\n",
    "                images.append(np.array(img))\n",
    "                labels.append(0)  # Class label for folder2\n",
    "        except Exception as e:\n",
    "            print(f\"Could not load image {filename} from {folder2}: {e}\")\n",
    "\n",
    "    # convert lists to NumPy arrays\n",
    "    \n",
    "    images = np.array(images)\n",
    "    labels = np.array(labels)\n",
    "    \n",
    "    return images, labels\n",
    "\n",
    "images_train, label_train = load_images_from_folders(train_target, train_nontarget)\n",
    "images_val, label_val = load_images_from_folders(val_target, val_nontarget)"
   ]
  },
  {
   "cell_type": "code",
   "execution_count": 64,
   "id": "2fc677bc-cf4f-4345-9025-45a27bf0a1f9",
   "metadata": {},
   "outputs": [
    {
     "name": "stdout",
     "output_type": "stream",
     "text": [
      "(5200, 224, 224, 3) (5200,) <class 'numpy.ndarray'>\n",
      "0 255\n",
      "Initial eagle count: 1300\n",
      "Initial noneagle count: 3900\n"
     ]
    }
   ],
   "source": [
    "## for debugging:\n",
    "print(images_train.shape, label_train.shape, type(images_train))\n",
    "print(images_train.min(), images_train.max())  # expected: 0 255, later will normalize\n",
    "print(f\"Initial eagle count: {np.sum(label_train == 1)}\")\n",
    "print(f\"Initial noneagle count: {np.sum(label_train == 0)}\")"
   ]
  },
  {
   "cell_type": "code",
   "execution_count": 65,
   "id": "79236d4d-b08c-4630-a005-0da7c7d0c1c5",
   "metadata": {},
   "outputs": [],
   "source": [
    "def change_labels(labels, percentage):\n",
    "    random.seed(340)\n",
    "    label_one_indices = np.where(labels == 1)[0]\n",
    "    \n",
    "    n = int(len(label_one_indices) * (percentage / 100))\n",
    "    \n",
    "    indices_to_change = np.random.choice(label_one_indices, size=n, replace=False)\n",
    "    \n",
    "    labels[indices_to_change] = 0\n",
    "    \n",
    "    return labels, indices_to_change\n",
    "\n",
    "# for example, change 20% of label 1s to label 0\n",
    "percentage = 0  \n",
    "# changed_indices\n",
    "# label_train, changed_indices = change_labels(label_train, percentage)"
   ]
  },
  {
   "cell_type": "code",
   "execution_count": 66,
   "id": "2f8fe98c-89ce-4d1f-a0f3-840d49eebdca",
   "metadata": {},
   "outputs": [],
   "source": [
    "import tensorflow as tf\n",
    "from tensorflow.keras.applications import VGG16\n",
    "from tensorflow.keras.models import Model\n",
    "from tensorflow.keras.layers import Dense, Flatten\n",
    "from tensorflow.keras.preprocessing.image import ImageDataGenerator\n",
    "tf.keras.utils.set_random_seed(340)\n",
    "tf.config.experimental.enable_op_determinism()"
   ]
  },
  {
   "cell_type": "code",
   "execution_count": 67,
   "id": "66d6aebd-c991-4a74-9b33-f1e5920218c0",
   "metadata": {},
   "outputs": [],
   "source": [
    "callbacks = [\n",
    "    tf.keras.callbacks.EarlyStopping(monitor='val_loss', patience=3, restore_best_weights=True)\n",
    "]\n",
    "epochs = 15\n",
    "# restore best weights make the model be the one that was the best instead of last one\n",
    "# patience changed from 4-->3"
   ]
  },
  {
   "cell_type": "code",
   "execution_count": 68,
   "id": "6e3319a3-82bf-42a0-afb7-d005da2bbfd8",
   "metadata": {},
   "outputs": [],
   "source": [
    "# reload images\n",
    "images_train, label_train = load_images_from_folders(train_target, train_nontarget)\n",
    "percentage = 20  \n",
    "# changed_indices\n",
    "label_train, changed_indices = change_labels(label_train, percentage)"
   ]
  },
  {
   "cell_type": "code",
   "execution_count": 69,
   "id": "e64eef54-df72-4075-a370-f590a2f831db",
   "metadata": {},
   "outputs": [
    {
     "name": "stdout",
     "output_type": "stream",
     "text": [
      "New eagle count: 1040\n",
      "New noneagle count: 4160\n"
     ]
    }
   ],
   "source": [
    "print(f\"New eagle count: {np.sum(label_train == 1)}\")\n",
    "print(f\"New noneagle count: {np.sum(label_train == 0)}\")"
   ]
  },
  {
   "cell_type": "code",
   "execution_count": 70,
   "id": "44e5183d-4eb9-40e1-8066-a17ae72e4d02",
   "metadata": {},
   "outputs": [
    {
     "name": "stdout",
     "output_type": "stream",
     "text": [
      "New eagle count: 1040\n",
      "New noneagle count: 4160\n",
      "Confidence values: [0.35 1.   1.   1.   1.   1.   1.   0.35 1.   1.  ]\n"
     ]
    }
   ],
   "source": [
    "from tensorflow.keras.layers import Input, Dropout, Concatenate\n",
    "confidence_init = np.ones_like(label_train, dtype=float)  # Start with all 1s for confidence\n",
    "confidence_init[label_train == 0] = 0  # Set confidence to 0 for original 0 labels\n",
    "confidence_init[changed_indices] = 0.35  # Set confidence to 0.35 for flipped labels\n",
    "confidence_init = confidence_init.reshape(-1, 1)  # Reshape to (N, 1)\n",
    "\n",
    "# print data statistics\n",
    "print(f\"New eagle count: {np.sum(label_train == 1)}\")\n",
    "print(f\"New noneagle count: {np.sum(label_train == 0)}\")\n",
    "print(f\"Confidence values: {confidence_init[:10].flatten()}\")"
   ]
  },
  {
   "cell_type": "code",
   "execution_count": 71,
   "id": "bc5ea703-0063-4f68-84fa-da03d64bef30",
   "metadata": {
    "scrolled": true
   },
   "outputs": [],
   "source": [
    "# remake models\n",
    "# mutliple inputs taken from chat and https://pyimagesearch.com/2019/02/04/keras-multiple-inputs-and-mixed-data/\n",
    "# we have full confidence if it is a 1, the lower the number the more confident you are in the 0 class\n",
    "# .999999 vs .00004\n",
    "\n",
    "base_model = VGG16(weights='imagenet', include_top=False, input_shape=(224, 224, 3))\n",
    "\n",
    "for layer in base_model.layers:\n",
    "    layer.trainable = True\n",
    "\n",
    "\n",
    "# add new fully connected layers for binary classification\n",
    "image_input = base_model.input\n",
    "x = base_model.output\n",
    "x = Flatten()(x)\n",
    "\n",
    "additional_input = Input(shape=(1,), name=\"additional_input\") # shape is just 1 feature for the confidence \n",
    "y = Dense(64, activation='relu')(additional_input) \n",
    "y = Dropout(0.1)(y) # when .5, the additional input was too powerful, the prediction vals were always either to close to 1 or 0, we try to make the additional input less important than the images\n",
    "\n",
    "combined = Concatenate()([x, y]) # 2 channels\n",
    "combined = Dense(256, activation='relu')(combined)\n",
    "combined = Dense(1, activation='sigmoid')(combined)  # sigmoid for binary \n",
    "\n",
    "model = Model(inputs=[image_input, additional_input], outputs=combined)\n",
    "\n",
    "model.compile(optimizer='adam', loss='binary_crossentropy', metrics=['accuracy'], jit_compile=False)"
   ]
  },
  {
   "cell_type": "markdown",
   "id": "f8eb2782-7568-4166-844b-148627328c6c",
   "metadata": {
    "jp-MarkdownHeadingCollapsed": true
   },
   "source": [
    "### didnt run any of this\n"
   ]
  },
  {
   "cell_type": "code",
   "execution_count": null,
   "id": "ed71e4b7-0248-443a-9690-dee283ba7c2c",
   "metadata": {},
   "outputs": [],
   "source": [
    "history = model.fit(\n",
    "    [images_train, confidence_init],\n",
    "    label_train,\n",
    "    batch_size = 32,\n",
    "    epochs=epochs,  # adjust this for more epochs as needed\n",
    "    validation_data=([images_val, label_val.reshape(-1,1)], label_val),\n",
    "    callbacks = callbacks\n",
    ")"
   ]
  },
  {
   "cell_type": "code",
   "execution_count": null,
   "id": "dc85507c-4510-48e0-995a-d35f93bc8fd9",
   "metadata": {},
   "outputs": [],
   "source": [
    "#accracy isnt what we care about rn, we care more about the confidence score and actual classigications\n",
    "preds = model.predict([images_train, confidence_init])"
   ]
  },
  {
   "cell_type": "code",
   "execution_count": 14,
   "id": "7c5a0027-b4fa-443a-9957-1b764db26b22",
   "metadata": {},
   "outputs": [
    {
     "data": {
      "text/plain": [
       "array([   0,    7,   10,   15,   18,   25,   33,   34,   36,   43,   45,\n",
       "         46,   47,   51,   53,   55,   59,   71,   72,   73,   74,   82,\n",
       "         91,   93,   95,  105,  106,  107,  120,  123,  124,  130,  134,\n",
       "        138,  145,  146,  148,  149,  150,  158,  160,  169,  193,  201,\n",
       "        204,  207,  224,  228,  235,  239,  245,  249,  255,  260,  266,\n",
       "        269,  273,  283,  290,  292,  293,  298,  304,  306,  307,  311,\n",
       "        313,  315,  322,  326,  329,  336,  340,  341,  349,  351,  352,\n",
       "        353,  357,  362,  364,  368,  370,  377,  378,  385,  386,  387,\n",
       "        388,  392,  400,  403,  409,  410,  414,  417,  423,  428,  432,\n",
       "        436,  438,  455,  458,  460,  465,  470,  477,  480,  482,  486,\n",
       "        499,  511,  530,  533,  534,  537,  546,  547,  553,  564,  566,\n",
       "        572,  573,  574,  578,  598,  601,  604,  619,  623,  634,  656,\n",
       "        665,  666,  672,  674,  675,  677,  684,  687,  688,  689,  698,\n",
       "        710,  720,  723,  724,  731,  734,  738,  743,  777,  781,  782,\n",
       "        786,  790,  794,  802,  803,  810,  811,  818,  822,  825,  829,\n",
       "        830,  833,  836,  837,  839,  841,  849,  850,  856,  858,  859,\n",
       "        861,  865,  866,  867,  874,  877,  879,  882,  884,  900,  901,\n",
       "        905,  909,  913,  918,  923,  926,  938,  945,  947,  953,  969,\n",
       "        973,  976,  986,  996, 1001, 1007, 1014, 1019, 1029, 1032, 1039,\n",
       "       1041, 1050, 1052, 1055, 1068, 1078, 1082, 1083, 1085, 1086, 1087,\n",
       "       1089, 1096, 1100, 1101, 1103, 1105, 1109, 1140, 1148, 1151, 1157,\n",
       "       1177, 1178, 1179, 1187, 1188, 1193, 1200, 1201, 1203, 1211, 1213,\n",
       "       1216, 1217, 1220, 1221, 1223, 1230, 1232, 1235, 1240, 1244, 1245,\n",
       "       1249, 1263, 1265, 1267, 1268, 1291, 1299])"
      ]
     },
     "execution_count": 14,
     "metadata": {},
     "output_type": "execute_result"
    }
   ],
   "source": [
    "changed_indices.sort()\n",
    "changed_indices"
   ]
  },
  {
   "cell_type": "code",
   "execution_count": 15,
   "id": "864f5896-3699-4f29-8b7d-c89288471ce1",
   "metadata": {},
   "outputs": [
    {
     "data": {
      "text/plain": [
       "(1040,)"
      ]
     },
     "execution_count": 15,
     "metadata": {},
     "output_type": "execute_result"
    }
   ],
   "source": [
    "np.where(label_train > .5)[0].shape #260 eagles missing, instead more eagles are getting flipped to noneagles"
   ]
  },
  {
   "cell_type": "code",
   "execution_count": 16,
   "id": "5bf2c9cc-fad0-49d6-8028-7d95112cb62d",
   "metadata": {},
   "outputs": [
    {
     "data": {
      "text/plain": [
       "(1040,)"
      ]
     },
     "execution_count": 16,
     "metadata": {},
     "output_type": "execute_result"
    }
   ],
   "source": [
    "preds\n",
    "preds.reshape(5200,)\n",
    "np.where(preds.reshape(5200,) >.5)[0].shape #find indices of those 17 indexes that were incorrectly flipped and flip them to correct label"
   ]
  },
  {
   "cell_type": "code",
   "execution_count": 17,
   "id": "ad917216-e690-4251-a548-603ac9d890de",
   "metadata": {},
   "outputs": [
    {
     "data": {
      "text/plain": [
       "0.007381159"
      ]
     },
     "execution_count": 17,
     "metadata": {},
     "output_type": "execute_result"
    }
   ],
   "source": [
    "preds[changed_indices].mean() #preds for eagles labeled as 0, could we try flipping back top/highest value n percent of these back into eagles?"
   ]
  },
  {
   "cell_type": "code",
   "execution_count": 18,
   "id": "69af3e9b-4a68-46fd-81ab-e386ba308480",
   "metadata": {},
   "outputs": [
    {
     "data": {
      "text/plain": [
       "0.002475439"
      ]
     },
     "execution_count": 18,
     "metadata": {},
     "output_type": "execute_result"
    }
   ],
   "source": [
    "preds[1300:].mean() #noneagles labeled as noneagles"
   ]
  },
  {
   "cell_type": "code",
   "execution_count": 19,
   "id": "25f499be-edde-4e7b-a970-d5a0e7fef88f",
   "metadata": {},
   "outputs": [],
   "source": [
    "from scipy.stats import ttest_ind\n",
    "\n",
    "tstat, pval = ttest_ind(preds[changed_indices], preds[1300:])"
   ]
  },
  {
   "cell_type": "code",
   "execution_count": 20,
   "id": "2ab1ddfe-875c-46dc-ab98-bbe1b6d5dcd1",
   "metadata": {},
   "outputs": [
    {
     "data": {
      "text/plain": [
       "array([2.51675191e-17])"
      ]
     },
     "execution_count": 20,
     "metadata": {},
     "output_type": "execute_result"
    }
   ],
   "source": [
    "pval"
   ]
  },
  {
   "cell_type": "code",
   "execution_count": 23,
   "id": "841452da-aeab-43db-8108-232093a6af0e",
   "metadata": {
    "scrolled": true
   },
   "outputs": [
    {
     "name": "stdout",
     "output_type": "stream",
     "text": [
      "You must install pydot (`pip install pydot`) for `plot_model` to work.\n"
     ]
    }
   ],
   "source": [
    "tf.keras.utils.plot_model(model, \"multi_input_and_output_model.png\", show_shapes=True)"
   ]
  },
  {
   "cell_type": "markdown",
   "id": "a79a5a32-3422-4a93-96a1-44112e0e0911",
   "metadata": {},
   "source": [
    "and this"
   ]
  },
  {
   "cell_type": "markdown",
   "id": "75e92ba7-948f-4e38-af46-e400f47c17b4",
   "metadata": {
    "jp-MarkdownHeadingCollapsed": true
   },
   "source": [
    "### riya 12/2 1"
   ]
  },
  {
   "cell_type": "code",
   "execution_count": 110,
   "id": "269dee85-444c-41fb-956d-89713c2d7bf5",
   "metadata": {},
   "outputs": [
    {
     "name": "stdout",
     "output_type": "stream",
     "text": [
      "Iteration 1...\n",
      "\u001b[1m163/163\u001b[0m \u001b[32m━━━━━━━━━━━━━━━━━━━━\u001b[0m\u001b[37m\u001b[0m \u001b[1m8s\u001b[0m 45ms/step\n",
      "Changed Indices: [  15   25   55   73  201  235  283  315  353  368  378  410  417  428\n",
      "  432  438  455  465  530  547  578  674  684  724  802  803  829  836\n",
      "  837  849  856  861  918  973 1029 1052 1085 1086 1101 1177 1193 1211\n",
      " 1213 1221 1299]\n",
      "Predictions for Changed Indices: [0.33993948 0.301688   0.31609848 0.346323   0.31062728 0.3332955\n",
      " 0.31176782 0.31758687 0.33170742 0.30259776 0.3220533  0.3301907\n",
      " 0.3241291  0.34405994 0.31074417 0.30899304 0.31454054 0.30906466\n",
      " 0.36607313 0.30413967 0.39055392 0.31689996 0.3912428  0.34620482\n",
      " 0.30776814 0.32108304 0.30376634 0.3192135  0.30213514 0.30695465\n",
      " 0.49647298 0.3226291  0.37533212 0.31266627 0.31192333 0.3216466\n",
      " 0.36463854 0.31626424 0.35049868 0.32555488 0.37126392 0.30479458\n",
      " 0.31322291 0.31673646 0.36950284]\n",
      "Label change ratio: 0.0000\n",
      "Eagles in predictions: 1040\n",
      "Noneagles in predictions: 4160\n",
      "Labels have converged.\n",
      "After Convergence - Correctly labeled eagles: 1040\n",
      "After Convergence - Correctly labeled noneagles: 4160\n"
     ]
    }
   ],
   "source": [
    "#trash rn\n",
    "import numpy as np\n",
    "\n",
    "# Define function to update labels based on misclassifications and confidence\n",
    "def update_labels(preds, labels, changed_indices, confidence_init, threshold=0.05):\n",
    "    new_labels = labels.copy()\n",
    "\n",
    "    # Misclassified eagles: predicted as non-eagles (preds <= 0.5) but they are actually eagles (labels == 1)\n",
    "    misclassified_eagles = np.where((labels[:1300] == 1) & (preds[:1300] <= 0.5))[0]\n",
    "\n",
    "    # Adjust confidence for misclassifications within the eagle class\n",
    "    for idx in misclassified_eagles:\n",
    "        confidence_init[idx] = min(confidence_init[idx] + 0.1, 1)  # Increase confidence for eagle class\n",
    "\n",
    "    # Flip misclassified eagles to eagles (preds closer to 1) if confidently predicted\n",
    "    for idx in misclassified_eagles:\n",
    "        new_labels[idx] = 1  # Flip to eagle\n",
    "\n",
    "    return new_labels  \n",
    "\n",
    "# Iterative relabeling process\n",
    "converged = False\n",
    "iteration = 0\n",
    "threshold = 0.05  # Statistical significance level\n",
    "tolerance = 0.01  # Convergence tolerance (less than 1% labels change)\n",
    "\n",
    "\n",
    "# Start iterative process\n",
    "while not converged:\n",
    "    iteration += 1\n",
    "    print(f\"Iteration {iteration}...\")\n",
    "\n",
    "    # Retrain the model with the current labels and confidence scores\n",
    "    history = model.fit(\n",
    "        [images_train, confidence_init],  # Use updated confidence\n",
    "        label_train,\n",
    "        batch_size=32,\n",
    "        epochs=1,  # To see values after each iteration\n",
    "        validation_data=([images_val, label_val.reshape(-1, 1)], label_val),\n",
    "        callbacks=callbacks,\n",
    "        verbose=0\n",
    "    )\n",
    "\n",
    "    # Predict updated confidence scores from the model\n",
    "    preds = model.predict([images_train, confidence_init]).flatten()\n",
    "\n",
    "    # Filter `changed_indices` to keep only ambiguous predictions\n",
    "    changed_indices = changed_indices[np.where((preds[changed_indices] > 0.3) & (preds[changed_indices] < 0.7))[0]]\n",
    "    changed_indices = np.sort(changed_indices)\n",
    "\n",
    "    print(f\"Changed Indices: {changed_indices}\")\n",
    "    print(f\"Predictions for Changed Indices: {preds[changed_indices]}\")\n",
    "\n",
    "    # Update labels based on misclassifications and confidence\n",
    "    new_labels = update_labels(preds, label_train, changed_indices, confidence_init, threshold)\n",
    "\n",
    "    # Update confidence scores to reflect updated predictions\n",
    "    confidence_init = preds.reshape(-1, 1)\n",
    "\n",
    "    # Check for convergence\n",
    "    label_changes = np.sum(label_train != new_labels)\n",
    "    change_ratio = label_changes / len(label_train)\n",
    "    print(f\"Label change ratio: {change_ratio:.4f}\")\n",
    "    print(f\"Eagles in predictions: {np.sum(preds > 0.5)}\")\n",
    "    print(f\"Noneagles in predictions: {np.sum(preds <= 0.5)}\")\n",
    "\n",
    "    # Check if the labels have converged by comparing the old and new labels\n",
    "    if change_ratio < tolerance:  \n",
    "        converged = True\n",
    "    else:\n",
    "        label_train = new_labels.copy()  # Update labels for the next iteration\n",
    "\n",
    "print(\"Labels have converged.\")\n",
    "\n",
    "# Final print\n",
    "eagle_count = np.sum(label_train == 1)\n",
    "noneagle_count = np.sum(label_train == 0)\n",
    "print(f\"After Convergence - Correctly labeled eagles: {eagle_count}\")\n",
    "print(f\"After Convergence - Correctly labeled noneagles: {noneagle_count}\")\n"
   ]
  },
  {
   "cell_type": "markdown",
   "id": "bba674e1-757a-4db3-b351-f36bc3c645a7",
   "metadata": {},
   "source": [
    "### riya 12/2 2"
   ]
  },
  {
   "cell_type": "code",
   "execution_count": 36,
   "id": "74453bdf-a5c0-4764-b238-901b1f3a8810",
   "metadata": {},
   "outputs": [
    {
     "name": "stdout",
     "output_type": "stream",
     "text": [
      "Iteration 1...\n",
      "\u001b[1m163/163\u001b[0m \u001b[32m━━━━━━━━━━━━━━━━━━━━\u001b[0m\u001b[37m\u001b[0m \u001b[1m7s\u001b[0m 42ms/step\n",
      "Adjusted 208 indices, avg confidence: 0.0011\n",
      "Changed Indices: [ 634 1050  370   34  986  149  499  720 1032  260  432  601  867  130\n",
      " 1052  564  688  619  781  675  918 1178 1223  782  731  856  362  969\n",
      "  578  861   72   71  743  283  837  313  882  134  938  822   10  311\n",
      "  953   25  148  438  666  850  546  874 1240  849  378  377  249 1014\n",
      "  160 1151  923   59  460  138 1187  573   15  470  723  794  106 1140\n",
      " 1041  905  511  201  204  777  803  574 1211 1082 1249 1087  245  107\n",
      "  533  307  341  604 1291 1105  410  207  877  913   53 1299 1265   55\n",
      "  537 1203  292  547   47  351  818  790  865 1078  255  458 1101  235\n",
      "  105  326  973  684   91 1263 1085   95  290    7 1029  945  926 1232\n",
      "  672  859 1244  534  879  388  123  120 1100  909    0  266  455 1179\n",
      "  553  269  322  304  298  724  884 1217  387 1268  598   74  677  530\n",
      "   45  572 1213 1086 1103 1109  738   82  839  385  400  349 1177  900\n",
      "  357  810   93 1235 1216  665   73  947  224 1200  386   46 1201   51\n",
      "  901  465  239  414  786  329  392 1039 1007  734  352  482   18 1193\n",
      "   43  417  477  428  364  689 1083  423 1157  409  841  976 1267  480\n",
      "  829  833  623  830  336 1001 1089  486 1055  687  306  124  866  145\n",
      "  169  858  802  315  368  403  656 1188 1148 1019  698  674  293  566\n",
      " 1068   36  158  436  996 1230  340  150   33  710  836  146 1245 1221\n",
      "  353  273 1096  228  811  825  193 1220]\n",
      "Predictions for Changed Indices: [0.14698198 0.08105592 0.09259105 0.07273275 0.08966894 0.08374815\n",
      " 0.0720187  0.07050358 0.06241228 0.08375508 0.07039426 0.10454656\n",
      " 0.08180402 0.0891483  0.11123827 0.03073414 0.13788709 0.15575719\n",
      " 0.0865363  0.06309564 0.08788458 0.08589068 0.06583675 0.08671241\n",
      " 0.07360455 0.12211581 0.09069543 0.10823644 0.00035119 0.09746071\n",
      " 0.07839868 0.07695532 0.13538758 0.07743233 0.09149564 0.09901578\n",
      " 0.06980311 0.10387171 0.09478067 0.08680868 0.06514769 0.08000872\n",
      " 0.06128809 0.06988596 0.07322241 0.09363873 0.03568991 0.09660935\n",
      " 0.13546497 0.07978414 0.08909078 0.08003435 0.06738131 0.0855047\n",
      " 0.05548643 0.11489457 0.08193008 0.09491501 0.09102888 0.10367376\n",
      " 0.09732651 0.0500621  0.06633259 0.0872179  0.07917348 0.09289615\n",
      " 0.09452836 0.08315962 0.07715098 0.08730621 0.10063355 0.08753675\n",
      " 0.07855917 0.079211   0.07782935 0.0733292  0.05461534 0.09709213\n",
      " 0.10410102 0.09205621 0.08619759 0.0790659  0.08376308 0.09534004\n",
      " 0.01566844 0.10794919 0.09239189 0.13686793 0.0868393  0.06205774\n",
      " 0.12135815 0.07890169 0.07433493 0.0775772  0.08135428 0.09047446\n",
      " 0.09654742 0.07131316 0.14517422 0.09421872 0.09845343 0.11263014\n",
      " 0.09504988 0.05099086 0.07800651 0.07852901 0.07219383 0.11511034\n",
      " 0.0974119  0.09929231 0.07278806 0.12824102 0.0843145  0.08328965\n",
      " 0.07925802 0.05103315 0.01640309 0.08760951 0.07735763 0.10235651\n",
      " 0.08484045 0.0869631  0.16394025 0.04946623 0.08583213 0.07690836\n",
      " 0.08462713 0.06758997 0.08457975 0.10492007 0.04625582 0.1568413\n",
      " 0.08819027 0.08258909 0.080828   0.08438876 0.07827818 0.07375239\n",
      " 0.09386478 0.08772538 0.06780828 0.0852488  0.07992796 0.16691169\n",
      " 0.0696164  0.10504397 0.1002646  0.06867334 0.07770205 0.06675172\n",
      " 0.09570219 0.08024246 0.07134984 0.184124   0.1344461  0.10738689\n",
      " 0.10953755 0.10927869 0.09375254 0.02605151 0.08096443 0.08302958\n",
      " 0.07284459 0.08014364 0.10391792 0.10224252 0.10151755 0.0901126\n",
      " 0.08713157 0.07059097 0.07324833 0.08045956 0.08713765 0.06741323\n",
      " 0.0992303  0.06919063 0.0835681  0.07931741 0.07915725 0.10429922\n",
      " 0.07629011 0.08184368 0.07006227 0.12746912 0.088645   0.09948435\n",
      " 0.0756382  0.04648099 0.09209944 0.07108856 0.09468189 0.07607614\n",
      " 0.10368015 0.09505641 0.08496419 0.11487344 0.08713596 0.07398665\n",
      " 0.08470229 0.1087404  0.11082686 0.10123174 0.09833673 0.07980773\n",
      " 0.08280089 0.08003376 0.06903819 0.08224963 0.10829031 0.14447258\n",
      " 0.07434046 0.13211463 0.07614212 0.08878831 0.08478654 0.08987294\n",
      " 0.08987895 0.0842494  0.11134418 0.08599383 0.03642419 0.0803525\n",
      " 0.07127474 0.07285306 0.09723657 0.06960321 0.07716253 0.0807943\n",
      " 0.08713397 0.14963259 0.08910348 0.11478722 0.05367854 0.0661075\n",
      " 0.09182828 0.09152083 0.10029244 0.08935082 0.09360445 0.08471981\n",
      " 0.05721691 0.09077121 0.10538282 0.08471932 0.08313803 0.09448771\n",
      " 0.11560477 0.08653174 0.08384421 0.08424652 0.08674122 0.0729678\n",
      " 0.1083978  0.11809121 0.09840963 0.10954607 0.0754393  0.12508568\n",
      " 0.08136381 0.08381234]\n",
      "Change ratio: 0.0400\n",
      "Iteration 2...\n",
      "\u001b[1m163/163\u001b[0m \u001b[32m━━━━━━━━━━━━━━━━━━━━\u001b[0m\u001b[37m\u001b[0m \u001b[1m7s\u001b[0m 42ms/step\n",
      "Adjusted 208 indices, avg confidence: 0.0002\n",
      "Changed Indices: [ 634 1050  370   34  986  149  499  720 1032  260  432  601  867  130\n",
      " 1052  564  688  619  781  675  918 1178 1223  782  731  856  362  969\n",
      "  578  861   72   71  743  283  837  313  882  134  938  822   10  311\n",
      "  953   25  148  438  666  850  546  874 1240  849  378  377  249 1014\n",
      "  160 1151  923   59  460  138 1187  573   15  470  723  794  106 1140\n",
      " 1041  905  511  201  204  777  803  574 1211 1082 1249 1087  245  107\n",
      "  533  307  341  604 1291 1105  410  207  877  913   53 1299 1265   55\n",
      "  537 1203  292  547   47  351  818  790  865 1078  255  458 1101  235\n",
      "  105  326  973  684   91 1263 1085   95  290    7 1029  945  926 1232\n",
      "  672  859 1244  534  879  388  123  120 1100  909    0  266  455 1179\n",
      "  553  269  322  304  298  724  884 1217  387 1268  598   74  677  530\n",
      "   45  572 1213 1086 1103 1109  738   82  839  385  400  349 1177  900\n",
      "  357  810   93 1235 1216  665   73  947  224 1200  386   46 1201   51\n",
      "  901  465  239  414  786  329  392 1039 1007  734  352  482   18 1193\n",
      "   43  417  477  428  364  689 1083  423 1157  409  841  976 1267  480\n",
      "  829  833  623  830  336 1001 1089  486 1055  687  306  124  866  145\n",
      "  169  858  802  315  368  403  656 1188 1148 1019  698  674  293  566\n",
      " 1068   36  158  436  996 1230  340  150   33  710  836  146 1245 1221\n",
      "  353  273 1096  228  811  825  193 1220]\n",
      "Predictions for Changed Indices: [3.2853324e-02 3.0884322e-02 2.9118149e-02 2.9785866e-02 2.6270300e-02\n",
      " 3.3591975e-02 2.9229913e-02 3.1872328e-02 3.0217638e-02 3.0942764e-02\n",
      " 2.8973017e-02 2.5490806e-02 3.0721186e-02 3.0956540e-02 3.2042939e-02\n",
      " 1.9051639e-02 3.8061872e-02 4.0590018e-02 3.4140915e-02 3.1721078e-02\n",
      " 2.4826607e-02 3.0030262e-02 3.2836270e-02 2.9857267e-02 2.9554732e-02\n",
      " 2.8795240e-02 3.3529554e-02 3.7052467e-02 5.7258530e-05 3.1105217e-02\n",
      " 3.1191722e-02 3.1337909e-02 2.5211617e-02 2.8035514e-02 3.3247728e-02\n",
      " 2.8214391e-02 2.7253054e-02 3.6430970e-02 3.2299288e-02 2.9987833e-02\n",
      " 3.0002078e-02 3.3857033e-02 2.3751322e-02 2.5028842e-02 3.0485706e-02\n",
      " 3.2717373e-02 1.5848573e-02 3.4196433e-02 3.3725910e-02 3.2772288e-02\n",
      " 2.9494036e-02 2.9316200e-02 3.0479847e-02 2.4926858e-02 2.5387919e-02\n",
      " 2.7432963e-02 3.2155488e-02 2.9119816e-02 3.2519199e-02 3.2623842e-02\n",
      " 2.5097290e-02 2.6580874e-02 2.4784667e-02 3.3851076e-02 2.9185973e-02\n",
      " 3.1154590e-02 3.0876888e-02 2.9135175e-02 3.3029415e-02 3.2475587e-02\n",
      " 3.2291014e-02 3.0563846e-02 3.2554157e-02 2.7951440e-02 2.5793260e-02\n",
      " 2.8587388e-02 2.3043215e-02 3.4128450e-02 2.7002787e-02 3.2378651e-02\n",
      " 3.1656139e-02 3.1722374e-02 2.1256227e-02 3.2957859e-02 1.1871437e-02\n",
      " 3.6700591e-02 2.9507805e-02 3.1463243e-02 2.8723948e-02 1.7829647e-02\n",
      " 3.7523631e-02 3.0352551e-02 3.2626998e-02 2.8367361e-02 3.0867008e-02\n",
      " 2.9163396e-02 2.9721478e-02 2.6063930e-02 2.6789274e-02 3.2528818e-02\n",
      " 3.2065332e-02 3.4741566e-02 2.9595824e-02 2.3452373e-02 3.1873293e-02\n",
      " 3.0222258e-02 2.8118102e-02 3.7373960e-02 3.1151472e-02 3.3763044e-02\n",
      " 1.1081771e-02 3.3557687e-02 3.2805875e-02 3.0003674e-02 2.6648099e-02\n",
      " 2.1328066e-02 1.4122785e-02 3.2150902e-02 2.8478667e-02 2.2902241e-02\n",
      " 3.0655470e-02 2.2469727e-02 3.5768073e-02 2.2632428e-02 2.9593885e-02\n",
      " 3.0989515e-02 2.9924121e-02 3.0356102e-02 3.0435627e-02 3.0816860e-02\n",
      " 2.4834784e-02 3.5754375e-02 2.8606096e-02 3.1261861e-02 3.1294465e-02\n",
      " 3.2149106e-02 3.1156078e-02 3.0120077e-02 2.9772358e-02 3.2427453e-02\n",
      " 2.7910359e-02 3.2133412e-02 2.8055441e-02 4.0688254e-02 3.2030296e-02\n",
      " 2.8744083e-02 3.0535035e-02 1.6368611e-02 2.9539995e-02 3.3332851e-02\n",
      " 2.7465653e-02 3.2887846e-02 2.9249419e-02 4.0698782e-02 3.4062933e-02\n",
      " 3.0939016e-02 3.2633256e-02 3.1790044e-02 3.3944830e-02 1.4502898e-02\n",
      " 2.4515701e-02 3.0477196e-02 2.8244480e-02 3.2475781e-02 3.2835033e-02\n",
      " 3.4489270e-02 3.3014845e-02 3.3883732e-02 2.9981991e-02 2.3346469e-02\n",
      " 2.9975474e-02 3.1707570e-02 3.4690868e-02 3.0796280e-02 2.9107172e-02\n",
      " 2.0131465e-02 3.2857101e-02 3.3184581e-02 3.0286295e-02 3.3899482e-02\n",
      " 2.9082892e-02 3.2952562e-02 2.9726068e-02 2.9639773e-02 2.9620985e-02\n",
      " 1.9876840e-02 2.2975856e-02 2.3250820e-02 3.1806335e-02 3.0936228e-02\n",
      " 2.8128065e-02 3.1788275e-02 3.3150651e-02 2.8469268e-02 3.4808107e-02\n",
      " 2.9511143e-02 3.1983115e-02 3.0695459e-02 3.2641042e-02 3.2665908e-02\n",
      " 2.9127065e-02 2.9948283e-02 3.1574555e-02 3.1923611e-02 3.1398136e-02\n",
      " 3.1087946e-02 2.9185446e-02 3.3265412e-02 3.2968141e-02 3.4621492e-02\n",
      " 1.5818749e-02 3.5882108e-02 2.7853334e-02 2.7137104e-02 2.8453963e-02\n",
      " 3.0293051e-02 2.6778752e-02 3.0532638e-02 3.3891216e-02 3.1599872e-02\n",
      " 1.1064822e-02 3.3334766e-02 2.6843678e-02 3.1179409e-02 3.2352220e-02\n",
      " 2.8777035e-02 2.7969569e-02 2.8923353e-02 3.0628933e-02 3.6117885e-02\n",
      " 3.2762162e-02 2.1068024e-02 9.7070094e-03 2.8155211e-02 3.1192023e-02\n",
      " 2.8145470e-02 3.6265634e-02 2.6770039e-02 2.8019719e-02 3.2386474e-02\n",
      " 2.7609484e-02 3.3331163e-02 3.0846382e-02 3.4125920e-02 3.1738482e-02\n",
      " 3.2709345e-02 3.4167044e-02 2.9041169e-02 2.9878585e-02 2.9999753e-02\n",
      " 1.4763724e-02 1.6744288e-02 3.2132477e-02 3.6886960e-02 3.2378525e-02\n",
      " 3.5727926e-02 2.9105144e-02 3.4376249e-02 2.2974925e-02 3.1870667e-02]\n",
      "Change ratio: 0.0400\n",
      "Iteration 3...\n",
      "\u001b[1m163/163\u001b[0m \u001b[32m━━━━━━━━━━━━━━━━━━━━\u001b[0m\u001b[37m\u001b[0m \u001b[1m7s\u001b[0m 42ms/step\n",
      "Adjusted 208 indices, avg confidence: 0.0000\n",
      "Changed Indices: [ 634 1050  370   34  986  149  499  720 1032  260  432  601  867  130\n",
      " 1052  564  688  619  781  675  918 1178 1223  782  731  856  362  969\n",
      "  578  861   72   71  743  283  837  313  882  134  938  822   10  311\n",
      "  953   25  148  438  666  850  546  874 1240  849  378  377  249 1014\n",
      "  160 1151  923   59  460  138 1187  573   15  470  723  794  106 1140\n",
      " 1041  905  511  201  204  777  803  574 1211 1082 1249 1087  245  107\n",
      "  533  307  341  604 1291 1105  410  207  877  913   53 1299 1265   55\n",
      "  537 1203  292  547   47  351  818  790  865 1078  255  458 1101  235\n",
      "  105  326  973  684   91 1263 1085   95  290    7 1029  945  926 1232\n",
      "  672  859 1244  534  879  388  123  120 1100  909    0  266  455 1179\n",
      "  553  269  322  304  298  724  884 1217  387 1268  598   74  677  530\n",
      "   45  572 1213 1086 1103 1109  738   82  839  385  400  349 1177  900\n",
      "  357  810   93 1235 1216  665   73  947  224 1200  386   46 1201   51\n",
      "  901  465  239  414  786  329  392 1039 1007  734  352  482   18 1193\n",
      "   43  417  477  428  364  689 1083  423 1157  409  841  976 1267  480\n",
      "  829  833  623  830  336 1001 1089  486 1055  687  306  124  866  145\n",
      "  169  858  802  315  368  403  656 1188 1148 1019  698  674  293  566\n",
      " 1068   36  158  436  996 1230  340  150   33  710  836  146 1245 1221\n",
      "  353  273 1096  228  811  825  193 1220]\n",
      "Predictions for Changed Indices: [1.21537810e-02 1.41166914e-02 1.18599031e-02 1.21395281e-02\n",
      " 9.71059967e-03 1.32895662e-02 1.23075666e-02 1.37494709e-02\n",
      " 1.34411287e-02 1.19703608e-02 1.31767737e-02 1.11051183e-02\n",
      " 1.23010110e-02 1.23815155e-02 1.16645927e-02 6.68096729e-03\n",
      " 1.58531405e-02 1.50990989e-02 1.39875375e-02 1.48886861e-02\n",
      " 8.24682787e-03 1.18935686e-02 1.37803014e-02 1.16670672e-02\n",
      " 1.11132795e-02 1.37231452e-02 1.43471071e-02 1.49318790e-02\n",
      " 3.19391870e-06 1.23511748e-02 1.29720401e-02 1.28174918e-02\n",
      " 1.02233365e-02 9.76744853e-03 8.92905518e-03 1.09659312e-02\n",
      " 1.09873312e-02 1.41836097e-02 1.21265836e-02 1.18051963e-02\n",
      " 1.32594742e-02 1.36910938e-02 9.40319058e-03 9.29720607e-03\n",
      " 1.32729067e-02 1.33171817e-02 4.39026626e-03 1.34700816e-02\n",
      " 1.18717998e-02 1.33496197e-02 1.14221983e-02 1.14282137e-02\n",
      " 9.66684241e-03 1.00657633e-02 1.01838429e-02 1.12355938e-02\n",
      " 1.33127961e-02 1.15300138e-02 1.30883828e-02 1.32354638e-02\n",
      " 1.06110005e-02 1.19596273e-02 8.66498891e-03 1.28514739e-02\n",
      " 7.94007815e-03 1.17977560e-02 1.32821770e-02 1.11999931e-02\n",
      " 1.48598375e-02 1.31906755e-02 1.42490584e-02 1.14646889e-02\n",
      " 1.37171578e-02 1.04068946e-02 1.11477440e-02 1.26494858e-02\n",
      " 6.22956734e-03 1.37152737e-02 9.66361538e-03 1.31945862e-02\n",
      " 1.14786727e-02 1.40997460e-02 1.10666528e-02 1.34819355e-02\n",
      " 3.96280456e-03 1.51546653e-02 1.15640834e-02 1.42238894e-02\n",
      " 1.13955187e-02 9.84531920e-03 1.67908501e-02 1.20952912e-02\n",
      " 1.43923918e-02 1.13619175e-02 1.23206032e-02 1.19902734e-02\n",
      " 1.04850782e-02 9.69326403e-03 9.87799931e-03 1.25909522e-02\n",
      " 1.33995805e-02 1.37031786e-02 1.15083000e-02 9.71231516e-03\n",
      " 1.32886907e-02 1.20372716e-02 1.11292098e-02 1.49963172e-02\n",
      " 1.21886376e-02 1.36617050e-02 5.53916069e-03 1.26522910e-02\n",
      " 1.35473255e-02 1.20224692e-02 1.04551995e-02 7.42571522e-03\n",
      " 4.29860409e-03 1.28662596e-02 1.14444848e-02 9.96246375e-03\n",
      " 1.20468251e-02 9.39737447e-03 1.22308610e-02 9.24291089e-03\n",
      " 1.20821819e-02 1.30077200e-02 1.22963199e-02 1.36305196e-02\n",
      " 1.19690401e-02 1.00016845e-02 1.14758480e-02 1.15004107e-02\n",
      " 1.24231363e-02 1.22032175e-02 1.20866960e-02 1.36113251e-02\n",
      " 1.27827907e-02 1.25589278e-02 1.11557841e-02 1.48213971e-02\n",
      " 1.19369971e-02 1.33502409e-02 1.08430870e-02 1.47032328e-02\n",
      " 1.56451687e-02 1.12583423e-02 1.17194671e-02 8.59549176e-03\n",
      " 1.21162944e-02 1.49935577e-02 9.30360239e-03 1.38748335e-02\n",
      " 1.22757144e-02 1.32166455e-02 1.26701389e-02 1.19841062e-02\n",
      " 1.26365274e-02 1.07451482e-02 1.47559782e-02 5.39854635e-03\n",
      " 1.06059909e-02 1.27758970e-02 1.14259198e-02 1.36024291e-02\n",
      " 1.33267092e-02 1.53072821e-02 1.34950578e-02 1.39531847e-02\n",
      " 1.20509453e-02 1.13238012e-02 1.28271412e-02 1.35989105e-02\n",
      " 1.53260594e-02 1.30717009e-02 1.12414975e-02 1.07177310e-02\n",
      " 1.41135603e-02 1.50077399e-02 1.24640130e-02 1.40506085e-02\n",
      " 1.31953489e-02 1.39706386e-02 1.29044643e-02 9.70766507e-03\n",
      " 1.14507861e-02 7.49147590e-03 8.53656977e-03 8.42345413e-03\n",
      " 1.12588042e-02 1.32115651e-02 1.08069982e-02 1.40152453e-02\n",
      " 1.32735064e-02 1.04813194e-02 1.44373048e-02 1.04347356e-02\n",
      " 1.26000615e-02 1.30676180e-02 1.28499428e-02 1.22499894e-02\n",
      " 1.24735590e-02 1.17039755e-02 1.30548198e-02 1.32398671e-02\n",
      " 1.28811793e-02 1.28291398e-02 1.21555552e-02 1.43343825e-02\n",
      " 1.25626707e-02 1.32556995e-02 7.13505968e-03 1.47953508e-02\n",
      " 1.10657560e-02 1.05808871e-02 1.13743031e-02 1.10390186e-02\n",
      " 9.67551954e-03 1.18136210e-02 1.39201256e-02 1.24167670e-02\n",
      " 8.30258802e-03 1.43370489e-02 1.07242959e-02 1.35218604e-02\n",
      " 1.20433532e-02 1.15418993e-02 1.01030255e-02 1.19309416e-02\n",
      " 1.19242156e-02 1.32298609e-02 1.35175604e-02 9.55322105e-03\n",
      " 5.43786958e-03 1.24296313e-02 1.12620639e-02 1.06925927e-02\n",
      " 1.51992310e-02 1.08280508e-02 1.05856061e-02 1.43066524e-02\n",
      " 1.14956852e-02 1.23462314e-02 1.23062395e-02 1.49806608e-02\n",
      " 1.27437543e-02 1.30388197e-02 1.34093855e-02 1.17127914e-02\n",
      " 1.25546530e-02 1.15115400e-02 6.59081759e-03 7.97414314e-03\n",
      " 1.20119723e-02 1.52366534e-02 1.18621662e-02 1.46961343e-02\n",
      " 1.20558748e-02 1.27024846e-02 1.02012325e-02 1.27352439e-02]\n",
      "Change ratio: 0.0400\n",
      "Final eagle count: 1040\n",
      "Final noneagle count: 4160\n"
     ]
    }
   ],
   "source": [
    "n_percentage = 5  # % of least confident eagle predictions to adjust\n",
    "max_iterations = 3 # has biggest numbers from above output  \n",
    "convergence_tolerance = 0  # stop if change ratio is this\n",
    "high_conf_threshold = 0.8  # threshold for confident eagle flips\n",
    "\n",
    "for iteration in range(max_iterations):\n",
    "    print(f\"Iteration {iteration + 1}...\")\n",
    "\n",
    "    # step 1: train model\n",
    "    history = model.fit(\n",
    "        [images_train, confidence_init],\n",
    "        label_train,\n",
    "        batch_size=100, # ok this might seem crazy but im wondering if w batch=32 it wasn't encountering enough wrong labels \n",
    "        epochs=1,\n",
    "        # validation_data=([images_val, np.ones((len(images_val), 1))], label_val), # this was a line from chat, replaced w ours instead below\n",
    "        validation_data=([images_val, label_val.reshape(-1,1)], label_val),\n",
    "        callbacks=callbacks,\n",
    "        verbose=0\n",
    "    )\n",
    "\n",
    "    # step 2: predict probabilities\n",
    "    preds = model.predict([images_train, confidence_init]).flatten()\n",
    "\n",
    "    # step 3: identify least confident eagle predictions\n",
    "    low_confidence_indices = np.where((label_train == 0) & (preds < 0.5) & (preds != 0))[0] # grabbing indices where label_train is 0 (noneagle), focusing in on the misclassified\n",
    "    sorted_indices = low_confidence_indices[np.argsort(preds[low_confidence_indices])] # sorts the preds low to high\n",
    "    to_adjust = sorted_indices[:int(len(sorted_indices) * (n_percentage / 100))] # only grabbing 5% rn of the bottom\n",
    "\n",
    "    # step 4: update confidence for least confident predictions\n",
    "    if len(to_adjust) > 0:\n",
    "        confidence_init[to_adjust] = 0  # reduce confidence to 0 for the indices we picked by %\n",
    "        avg_confidence = np.mean(preds[to_adjust])\n",
    "        print(f\"Adjusted {len(to_adjust)} indices, avg confidence: {avg_confidence:.4f}\")\n",
    "    else:\n",
    "        print(\"No indices to adjust in this iteration.\")\n",
    "    print(f\"Changed Indices: {changed_indices}\")\n",
    "    print(f\"Predictions for Changed Indices: {preds[changed_indices]}\")\n",
    "\n",
    "\n",
    "    # step 5: check for convergence\n",
    "    if len(to_adjust) > 0:\n",
    "            change_ratio = len(to_adjust) / len(label_train)  \n",
    "    else:\n",
    "            change_ratio=0\n",
    "    print(f\"Change ratio: {change_ratio:.4f}\")\n",
    "\n",
    "    if change_ratio < convergence_tolerance:\n",
    "        print(\"Convergence reached.\")\n",
    "        break\n",
    "\n",
    "# step 6: final flipping of high-confidence predictions to eagles\n",
    "high_confidence_indices = np.where((label_train == 0) & (preds > .5))[0]\n",
    "for idx in high_confidence_indices:\n",
    "    label_train[idx] = 1  # flip to eagle\n",
    "    confidence_init[idx] = 1  # restore confidence to 1 for flipped labels\n",
    "\n",
    "print(f\"Final eagle count: {np.sum(label_train == 1)}\")\n",
    "print(f\"Final noneagle count: {np.sum(label_train == 0)}\")"
   ]
  },
  {
   "cell_type": "code",
   "execution_count": 72,
   "id": "2f91b3fe-60a7-41e5-b00a-1b19fc9bdfd8",
   "metadata": {},
   "outputs": [
    {
     "name": "stdout",
     "output_type": "stream",
     "text": [
      "Iteration 1...\n",
      "\u001b[1m163/163\u001b[0m \u001b[32m━━━━━━━━━━━━━━━━━━━━\u001b[0m\u001b[37m\u001b[0m \u001b[1m7s\u001b[0m 42ms/step\n",
      "Adjusted 208 indices, avg confidence: 0.0170\n",
      "Change ratio: 0.0400\n",
      "Iteration 2...\n",
      "\u001b[1m163/163\u001b[0m \u001b[32m━━━━━━━━━━━━━━━━━━━━\u001b[0m\u001b[37m\u001b[0m \u001b[1m7s\u001b[0m 42ms/step\n",
      "Adjusted 208 indices, avg confidence: 0.0012\n",
      "Change ratio: 0.0400\n",
      "Iteration 3...\n",
      "\u001b[1m163/163\u001b[0m \u001b[32m━━━━━━━━━━━━━━━━━━━━\u001b[0m\u001b[37m\u001b[0m \u001b[1m7s\u001b[0m 42ms/step\n",
      "Adjusted 208 indices, avg confidence: 0.0001\n",
      "Change ratio: 0.0400\n",
      "\u001b[1m163/163\u001b[0m \u001b[32m━━━━━━━━━━━━━━━━━━━━\u001b[0m\u001b[37m\u001b[0m \u001b[1m7s\u001b[0m 42ms/step\n",
      "Retraining model with updated labels...\n",
      "Epoch 1/3\n",
      "\u001b[1m163/163\u001b[0m \u001b[32m━━━━━━━━━━━━━━━━━━━━\u001b[0m\u001b[37m\u001b[0m \u001b[1m24s\u001b[0m 140ms/step - accuracy: 0.0000e+00 - loss: 0.0130 - val_accuracy: 0.2500 - val_loss: 4.2549\n",
      "Epoch 2/3\n",
      "\u001b[1m163/163\u001b[0m \u001b[32m━━━━━━━━━━━━━━━━━━━━\u001b[0m\u001b[37m\u001b[0m \u001b[1m23s\u001b[0m 139ms/step - accuracy: 0.0000e+00 - loss: 0.0127 - val_accuracy: 0.2500 - val_loss: 4.1080\n",
      "Epoch 3/3\n",
      "\u001b[1m163/163\u001b[0m \u001b[32m━━━━━━━━━━━━━━━━━━━━\u001b[0m\u001b[37m\u001b[0m \u001b[1m23s\u001b[0m 139ms/step - accuracy: 0.0000e+00 - loss: 0.0127 - val_accuracy: 0.2500 - val_loss: 4.2142\n",
      "Final eagle count: 1040\n",
      "Final noneagle count: 4160\n"
     ]
    }
   ],
   "source": [
    "for iteration in range(max_iterations):\n",
    "    print(f\"Iteration {iteration + 1}...\")\n",
    "\n",
    "    # Step 1: Train model\n",
    "    history = model.fit(\n",
    "        [images_train, confidence_init],\n",
    "        label_train,\n",
    "        batch_size=32,\n",
    "        epochs=1,\n",
    "        validation_data=([images_val, np.ones((len(images_val), 1))], label_val),\n",
    "        callbacks=callbacks,\n",
    "        verbose=0\n",
    "    )\n",
    "\n",
    "    # Step 2: Predict probabilities\n",
    "    preds = model.predict([images_train, confidence_init]).flatten()\n",
    "\n",
    "    # Step 3: Identify least confident predictions\n",
    "    low_confidence_indices = np.where((label_train == 0) & (preds < 0.5) & (preds != 0))[0]\n",
    "    sorted_indices = low_confidence_indices[np.argsort(preds[low_confidence_indices])]\n",
    "    to_adjust = sorted_indices[:int(len(sorted_indices) * (n_percentage / 100))]\n",
    "\n",
    "    # Step 4: Update confidence for least confident predictions\n",
    "    if len(to_adjust) > 0:\n",
    "        confidence_init[to_adjust] *= 0.5  # Reduce confidence gradually\n",
    "        avg_confidence = np.mean(preds[to_adjust])\n",
    "        print(f\"Adjusted {len(to_adjust)} indices, avg confidence: {avg_confidence:.4f}\")\n",
    "    else:\n",
    "        print(\"No indices to adjust in this iteration.\")\n",
    "\n",
    "    # Step 5: Check for convergence\n",
    "    change_ratio = len(to_adjust) / len(label_train) if len(to_adjust) > 0 else 0\n",
    "    print(f\"Change ratio: {change_ratio:.4f}\")\n",
    "    if change_ratio < convergence_tolerance:\n",
    "        print(\"Convergence reached.\")\n",
    "        break\n",
    "\n",
    "# Step 6: Final flipping of high-confidence predictions to eagles\n",
    "preds = model.predict([images_train, confidence_init]).flatten()\n",
    "high_confidence_indices = np.where((label_train == 0) & (preds > high_conf_threshold))[0]\n",
    "\n",
    "if len(high_confidence_indices) > 0:\n",
    "    label_train[high_confidence_indices] = 1\n",
    "    confidence_init[high_confidence_indices] = 1\n",
    "    print(f\"Flipped {len(high_confidence_indices)} labels to eagle.\")\n",
    "\n",
    "# Retrain on fully updated dataset\n",
    "print(\"Retraining model with updated labels...\")\n",
    "model.fit(\n",
    "    [images_train, confidence_init],\n",
    "    preds,\n",
    "    batch_size=32,\n",
    "    epochs=3,  # Add more epochs for final retraining\n",
    "    validation_data=([images_val, np.ones((len(images_val), 1))], label_val),\n",
    "    verbose=1\n",
    ")\n",
    "\n",
    "# Final counts\n",
    "print(f\"Final eagle count: {np.sum(label_train == 1)}\")\n",
    "print(f\"Final noneagle count: {np.sum(label_train == 0)}\")\n"
   ]
  },
  {
   "cell_type": "markdown",
   "id": "4b988f3c-a1b6-4798-8f4a-bbc6878d2172",
   "metadata": {
    "jp-MarkdownHeadingCollapsed": true
   },
   "source": [
    "### just to test distributions / debug"
   ]
  },
  {
   "cell_type": "code",
   "execution_count": null,
   "id": "38406e69-705d-44df-837e-d79871e2f2fc",
   "metadata": {},
   "outputs": [],
   "source": []
  },
  {
   "cell_type": "code",
   "execution_count": 34,
   "id": "7f0cea15-01b9-416e-9a34-e2a4e47b57cd",
   "metadata": {},
   "outputs": [
    {
     "name": "stdout",
     "output_type": "stream",
     "text": [
      "Correctly labeled eagles: 1040/1040\n",
      "Correctly labeled noneagles: 4160/4160\n"
     ]
    }
   ],
   "source": [
    "# Compare relabeled classes to original ground truth\n",
    "original_labels = new_labels  \n",
    "correct_eagles = np.sum((label_train == 1) & (original_labels == 1))  # True eagles as eagles\n",
    "correct_noneagles = np.sum((label_train == 0) & (original_labels == 0))  # True noneagles as noneagles\n",
    "\n",
    "print(f\"Correctly labeled eagles: {correct_eagles}/{np.sum(original_labels == 1)}\")\n",
    "print(f\"Correctly labeled noneagles: {correct_noneagles}/{np.sum(original_labels == 0)}\")\n"
   ]
  },
  {
   "cell_type": "code",
   "execution_count": 70,
   "id": "8b2ea307-66f6-4820-af0f-e7387923936e",
   "metadata": {},
   "outputs": [
    {
     "name": "stdout",
     "output_type": "stream",
     "text": [
      "Mean confidence for eagles: 0.0297\n",
      "Mean confidence for noneagles: 0.0079\n"
     ]
    }
   ],
   "source": [
    "eagle_confidence = preds[label_train == 1]\n",
    "noneagle_confidence = preds[label_train == 0]\n",
    "\n",
    "print(f\"Mean confidence for eagles: {eagle_confidence.mean():.4f}\")\n",
    "print(f\"Mean confidence for noneagles: {noneagle_confidence.mean():.4f}\")\n"
   ]
  },
  {
   "cell_type": "code",
   "execution_count": 34,
   "id": "091e90f8-5dd7-45d0-904b-b4f1e03d1997",
   "metadata": {},
   "outputs": [
    {
     "name": "stdout",
     "output_type": "stream",
     "text": [
      "T-statistic: 285.7584, P-value: 0.0000e+00\n"
     ]
    }
   ],
   "source": [
    "from scipy.stats import ttest_ind\n",
    "\n",
    "t_stat, p_val = ttest_ind(eagle_confidence, noneagle_confidence, equal_var=False)\n",
    "print(f\"T-statistic: {t_stat:.4f}, P-value: {p_val:.4e}\")\n"
   ]
  },
  {
   "cell_type": "code",
   "execution_count": 71,
   "id": "92a903ff-2813-4184-bbc5-479a20d2dbe0",
   "metadata": {},
   "outputs": [
    {
     "data": {
      "image/png": "[encoded data removed]",
      "text/plain": [
       "<Figure size 640x480 with 1 Axes>"
      ]
     },
     "metadata": {},
     "output_type": "display_data"
    }
   ],
   "source": [
    "import matplotlib.pyplot as plt\n",
    "\n",
    "plt.hist(eagle_confidence, bins=20, alpha=0.7, label='Eagles (1)')\n",
    "plt.hist(noneagle_confidence, bins=20, alpha=0.7, label='Noneagles (0)')\n",
    "plt.xlabel('Confidence Score')\n",
    "plt.ylabel('Frequency')\n",
    "plt.title('Confidence Distribution')\n",
    "plt.legend()\n",
    "plt.show()\n"
   ]
  },
  {
   "cell_type": "code",
   "execution_count": 36,
   "id": "8fe5eac0-43f7-49ec-a853-c79292cd062d",
   "metadata": {},
   "outputs": [
    {
     "name": "stdout",
     "output_type": "stream",
     "text": [
      "Sample 0: Label=0, Confidence=0.4747\n",
      "Sample 1: Label=1, Confidence=0.5125\n",
      "Sample 2: Label=1, Confidence=0.5125\n",
      "Sample 3: Label=1, Confidence=0.5125\n",
      "Sample 4: Label=1, Confidence=0.5125\n",
      "Sample 5: Label=1, Confidence=0.5125\n",
      "Sample 6: Label=1, Confidence=0.5125\n",
      "Sample 7: Label=0, Confidence=0.4747\n",
      "Sample 8: Label=1, Confidence=0.5125\n",
      "Sample 9: Label=1, Confidence=0.5125\n"
     ]
    }
   ],
   "source": [
    "# Get indices of ambiguous samples\n",
    "ambiguous_indices = np.where((preds > 0.4) & (preds < 0.6))[0]\n",
    "\n",
    "# Inspect some ambiguous samples (requires image visualization logic)\n",
    "for idx in ambiguous_indices[:10]:  # First 10 ambiguous cases\n",
    "    print(f\"Sample {idx}: Label={label_train[idx]}, Confidence={preds[idx]:.4f}\")\n",
    "    # Add your image visualization code here if needed\n"
   ]
  },
  {
   "cell_type": "code",
   "execution_count": null,
   "id": "372577b8-e20f-4931-9411-7cdd8356c626",
   "metadata": {},
   "outputs": [],
   "source": []
  }
 ],
 "metadata": {
  "kernelspec": {
   "display_name": "Python 3 (ipykernel)",
   "language": "python",
   "name": "python3"
  },
  "language_info": {
   "codemirror_mode": {
    "name": "ipython",
    "version": 3
   },
   "file_extension": ".py",
   "mimetype": "text/x-python",
   "name": "python",
   "nbconvert_exporter": "python",
   "pygments_lexer": "ipython3",
   "version": "3.11.9"
  }
 },
 "nbformat": 4,
 "nbformat_minor": 5
}
